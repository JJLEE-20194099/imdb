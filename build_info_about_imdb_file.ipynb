{
 "cells": [
  {
   "cell_type": "code",
   "execution_count": 9,
   "metadata": {},
   "outputs": [],
   "source": [
    "import numpy as np\n",
    "import pandas as pd\n",
    "import os\n",
    "from src.text_csv_utils import write_csv_file\n"
   ]
  },
  {
   "cell_type": "code",
   "execution_count": 10,
   "metadata": {},
   "outputs": [
    {
     "data": {
      "text/html": [
       "<div>\n",
       "<style scoped>\n",
       "    .dataframe tbody tr th:only-of-type {\n",
       "        vertical-align: middle;\n",
       "    }\n",
       "\n",
       "    .dataframe tbody tr th {\n",
       "        vertical-align: top;\n",
       "    }\n",
       "\n",
       "    .dataframe thead th {\n",
       "        text-align: right;\n",
       "    }\n",
       "</style>\n",
       "<table border=\"1\" class=\"dataframe\">\n",
       "  <thead>\n",
       "    <tr style=\"text-align: right;\">\n",
       "      <th></th>\n",
       "      <th>movie index</th>\n",
       "      <th>movie id</th>\n",
       "      <th>user id</th>\n",
       "      <th>rating</th>\n",
       "      <th>content</th>\n",
       "      <th>date</th>\n",
       "      <th>user index</th>\n",
       "    </tr>\n",
       "  </thead>\n",
       "  <tbody>\n",
       "    <tr>\n",
       "      <th>0</th>\n",
       "      <td>0</td>\n",
       "      <td>tt8510350</td>\n",
       "      <td>ur5876717</td>\n",
       "      <td>4</td>\n",
       "      <td>Not the running time in any sense, but this se...</td>\n",
       "      <td>31 October 2019</td>\n",
       "      <td>1412</td>\n",
       "    </tr>\n",
       "    <tr>\n",
       "      <th>1</th>\n",
       "      <td>0</td>\n",
       "      <td>tt8510350</td>\n",
       "      <td>ur22654354</td>\n",
       "      <td>2</td>\n",
       "      <td>I wasn't really sure what I was getting myself...</td>\n",
       "      <td>9 September 2019</td>\n",
       "      <td>1401</td>\n",
       "    </tr>\n",
       "    <tr>\n",
       "      <th>2</th>\n",
       "      <td>0</td>\n",
       "      <td>tt8510350</td>\n",
       "      <td>ur12844960</td>\n",
       "      <td>4</td>\n",
       "      <td>I didn't know what to expect of this flick bec...</td>\n",
       "      <td>2 May 2020</td>\n",
       "      <td>1347</td>\n",
       "    </tr>\n",
       "    <tr>\n",
       "      <th>3</th>\n",
       "      <td>0</td>\n",
       "      <td>tt8510350</td>\n",
       "      <td>ur0806494</td>\n",
       "      <td>4</td>\n",
       "      <td>2019 Oak Cliff Film Festival\\nGreetings again ...</td>\n",
       "      <td>11 June 2019</td>\n",
       "      <td>1368</td>\n",
       "    </tr>\n",
       "    <tr>\n",
       "      <th>4</th>\n",
       "      <td>0</td>\n",
       "      <td>tt8510350</td>\n",
       "      <td>ur77881167</td>\n",
       "      <td>3</td>\n",
       "      <td>Sam (Hayley Griffith) delivers pizza and compo...</td>\n",
       "      <td>31 October 2019</td>\n",
       "      <td>1405</td>\n",
       "    </tr>\n",
       "  </tbody>\n",
       "</table>\n",
       "</div>"
      ],
      "text/plain": [
       "   movie index   movie id     user id  rating  \\\n",
       "0            0  tt8510350   ur5876717       4   \n",
       "1            0  tt8510350  ur22654354       2   \n",
       "2            0  tt8510350  ur12844960       4   \n",
       "3            0  tt8510350   ur0806494       4   \n",
       "4            0  tt8510350  ur77881167       3   \n",
       "\n",
       "                                             content              date  \\\n",
       "0  Not the running time in any sense, but this se...   31 October 2019   \n",
       "1  I wasn't really sure what I was getting myself...  9 September 2019   \n",
       "2  I didn't know what to expect of this flick bec...        2 May 2020   \n",
       "3  2019 Oak Cliff Film Festival\\nGreetings again ...      11 June 2019   \n",
       "4  Sam (Hayley Griffith) delivers pizza and compo...   31 October 2019   \n",
       "\n",
       "   user index  \n",
       "0        1412  \n",
       "1        1401  \n",
       "2        1347  \n",
       "3        1368  \n",
       "4        1405  "
      ]
     },
     "execution_count": 10,
     "metadata": {},
     "output_type": "execute_result"
    }
   ],
   "source": [
    "ratings = pd.read_csv('data/datasets/rating/ml_details.csv', sep=',', encoding='latin-1')\n",
    "ratings.head()"
   ]
  },
  {
   "cell_type": "code",
   "execution_count": 11,
   "metadata": {},
   "outputs": [
    {
     "data": {
      "text/plain": [
       "118390"
      ]
     },
     "execution_count": 11,
     "metadata": {},
     "output_type": "execute_result"
    }
   ],
   "source": [
    "no_ratings = len(ratings)\n",
    "no_ratings"
   ]
  },
  {
   "cell_type": "code",
   "execution_count": 12,
   "metadata": {},
   "outputs": [
    {
     "data": {
      "text/plain": [
       "1415"
      ]
     },
     "execution_count": 12,
     "metadata": {},
     "output_type": "execute_result"
    }
   ],
   "source": [
    "no_users = len(ratings['user index'].unique())\n",
    "no_users"
   ]
  },
  {
   "cell_type": "code",
   "execution_count": 13,
   "metadata": {},
   "outputs": [
    {
     "data": {
      "text/plain": [
       "8362"
      ]
     },
     "execution_count": 13,
     "metadata": {},
     "output_type": "execute_result"
    }
   ],
   "source": [
    "no_movies = len(ratings['movie index'].unique())\n",
    "no_movies"
   ]
  },
  {
   "cell_type": "code",
   "execution_count": 14,
   "metadata": {},
   "outputs": [
    {
     "data": {
      "text/plain": [
       "8362"
      ]
     },
     "execution_count": 14,
     "metadata": {},
     "output_type": "execute_result"
    }
   ],
   "source": [
    "no_movies = len(ratings['movie index'].unique())\n",
    "no_movies"
   ]
  },
  {
   "cell_type": "code",
   "execution_count": 15,
   "metadata": {},
   "outputs": [
    {
     "name": "stdout",
     "output_type": "stream",
     "text": [
      "Rating Density:  0.01000572166024494\n"
     ]
    }
   ],
   "source": [
    "rating_density = no_ratings / (no_movies * no_users)\n",
    "print(\"Rating Density: \", rating_density)"
   ]
  },
  {
   "cell_type": "code",
   "execution_count": 16,
   "metadata": {},
   "outputs": [],
   "source": [
    "info = pd.DataFrame(columns=['Number of users', 'Number of movies', 'Number of ratings'])\n",
    "info['Number of users'] = [no_users]\n",
    "info['Number of movies'] = [no_movies]\n",
    "info['Number of ratings'] = [no_ratings]\n",
    "info.to_csv('./data/datasets/info.csv', sep=',', encoding='latin-1', index=False)"
   ]
  }
 ],
 "metadata": {
  "interpreter": {
   "hash": "ac59ebe37160ed0dfa835113d9b8498d9f09ceb179beaac4002f036b9467c963"
  },
  "kernelspec": {
   "display_name": "Python 3.9.7 64-bit",
   "language": "python",
   "name": "python3"
  },
  "language_info": {
   "codemirror_mode": {
    "name": "ipython",
    "version": 3
   },
   "file_extension": ".py",
   "mimetype": "text/x-python",
   "name": "python",
   "nbconvert_exporter": "python",
   "pygments_lexer": "ipython3",
   "version": "3.9.7"
  },
  "orig_nbformat": 4
 },
 "nbformat": 4,
 "nbformat_minor": 2
}
