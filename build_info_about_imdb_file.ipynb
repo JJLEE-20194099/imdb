{
 "cells": [
  {
   "cell_type": "code",
   "execution_count": 1,
   "metadata": {},
   "outputs": [],
   "source": [
    "import numpy as np\n",
    "import pandas as pd\n",
    "import os\n",
    "from src.text_csv_utils import write_csv_file\n"
   ]
  },
  {
   "cell_type": "code",
   "execution_count": 2,
   "metadata": {},
   "outputs": [
    {
     "data": {
      "text/html": [
       "<div>\n",
       "<style scoped>\n",
       "    .dataframe tbody tr th:only-of-type {\n",
       "        vertical-align: middle;\n",
       "    }\n",
       "\n",
       "    .dataframe tbody tr th {\n",
       "        vertical-align: top;\n",
       "    }\n",
       "\n",
       "    .dataframe thead th {\n",
       "        text-align: right;\n",
       "    }\n",
       "</style>\n",
       "<table border=\"1\" class=\"dataframe\">\n",
       "  <thead>\n",
       "    <tr style=\"text-align: right;\">\n",
       "      <th></th>\n",
       "      <th>movie index</th>\n",
       "      <th>movie id</th>\n",
       "      <th>user id</th>\n",
       "      <th>rating</th>\n",
       "      <th>content</th>\n",
       "      <th>date</th>\n",
       "      <th>user index</th>\n",
       "    </tr>\n",
       "  </thead>\n",
       "  <tbody>\n",
       "    <tr>\n",
       "      <th>0</th>\n",
       "      <td>0</td>\n",
       "      <td>tt8510350</td>\n",
       "      <td>ur5876717</td>\n",
       "      <td>4</td>\n",
       "      <td>Not the running time in any sense, but this se...</td>\n",
       "      <td>31 October 2019</td>\n",
       "      <td>1412</td>\n",
       "    </tr>\n",
       "    <tr>\n",
       "      <th>1</th>\n",
       "      <td>0</td>\n",
       "      <td>tt8510350</td>\n",
       "      <td>ur22654354</td>\n",
       "      <td>2</td>\n",
       "      <td>I wasn't really sure what I was getting myself...</td>\n",
       "      <td>9 September 2019</td>\n",
       "      <td>1401</td>\n",
       "    </tr>\n",
       "    <tr>\n",
       "      <th>2</th>\n",
       "      <td>0</td>\n",
       "      <td>tt8510350</td>\n",
       "      <td>ur12844960</td>\n",
       "      <td>4</td>\n",
       "      <td>I didn't know what to expect of this flick bec...</td>\n",
       "      <td>2 May 2020</td>\n",
       "      <td>1347</td>\n",
       "    </tr>\n",
       "    <tr>\n",
       "      <th>3</th>\n",
       "      <td>0</td>\n",
       "      <td>tt8510350</td>\n",
       "      <td>ur0806494</td>\n",
       "      <td>4</td>\n",
       "      <td>2019 Oak Cliff Film Festival\\nGreetings again ...</td>\n",
       "      <td>11 June 2019</td>\n",
       "      <td>1368</td>\n",
       "    </tr>\n",
       "    <tr>\n",
       "      <th>4</th>\n",
       "      <td>0</td>\n",
       "      <td>tt8510350</td>\n",
       "      <td>ur77881167</td>\n",
       "      <td>3</td>\n",
       "      <td>Sam (Hayley Griffith) delivers pizza and compo...</td>\n",
       "      <td>31 October 2019</td>\n",
       "      <td>1405</td>\n",
       "    </tr>\n",
       "  </tbody>\n",
       "</table>\n",
       "</div>"
      ],
      "text/plain": [
       "   movie index   movie id     user id  rating  \\\n",
       "0            0  tt8510350   ur5876717       4   \n",
       "1            0  tt8510350  ur22654354       2   \n",
       "2            0  tt8510350  ur12844960       4   \n",
       "3            0  tt8510350   ur0806494       4   \n",
       "4            0  tt8510350  ur77881167       3   \n",
       "\n",
       "                                             content              date  \\\n",
       "0  Not the running time in any sense, but this se...   31 October 2019   \n",
       "1  I wasn't really sure what I was getting myself...  9 September 2019   \n",
       "2  I didn't know what to expect of this flick bec...        2 May 2020   \n",
       "3  2019 Oak Cliff Film Festival\\nGreetings again ...      11 June 2019   \n",
       "4  Sam (Hayley Griffith) delivers pizza and compo...   31 October 2019   \n",
       "\n",
       "   user index  \n",
       "0        1412  \n",
       "1        1401  \n",
       "2        1347  \n",
       "3        1368  \n",
       "4        1405  "
      ]
     },
     "execution_count": 2,
     "metadata": {},
     "output_type": "execute_result"
    }
   ],
   "source": [
    "ratings = pd.read_csv('data/datasets/rating/remaining_detail.csv', sep=',', encoding='latin-1')\n",
    "ratings.head()"
   ]
  },
  {
   "cell_type": "code",
   "execution_count": 3,
   "metadata": {},
   "outputs": [
    {
     "data": {
      "text/plain": [
       "127944"
      ]
     },
     "execution_count": 3,
     "metadata": {},
     "output_type": "execute_result"
    }
   ],
   "source": [
    "no_ratings = len(ratings)\n",
    "no_ratings"
   ]
  },
  {
   "cell_type": "code",
   "execution_count": 4,
   "metadata": {},
   "outputs": [
    {
     "data": {
      "text/plain": [
       "1415"
      ]
     },
     "execution_count": 4,
     "metadata": {},
     "output_type": "execute_result"
    }
   ],
   "source": [
    "no_users = len(ratings['user index'].unique())\n",
    "no_users"
   ]
  },
  {
   "cell_type": "code",
   "execution_count": 5,
   "metadata": {},
   "outputs": [
    {
     "data": {
      "text/plain": [
       "9385"
      ]
     },
     "execution_count": 5,
     "metadata": {},
     "output_type": "execute_result"
    }
   ],
   "source": [
    "no_movies = ratings['movie index'].max() + 1\n",
    "no_movies"
   ]
  },
  {
   "cell_type": "code",
   "execution_count": 6,
   "metadata": {},
   "outputs": [
    {
     "data": {
      "text/plain": [
       "9385"
      ]
     },
     "execution_count": 6,
     "metadata": {},
     "output_type": "execute_result"
    }
   ],
   "source": [
    "no_movies = len(ratings['movie index'].unique())\n",
    "no_movies"
   ]
  },
  {
   "cell_type": "code",
   "execution_count": 7,
   "metadata": {},
   "outputs": [
    {
     "name": "stdout",
     "output_type": "stream",
     "text": [
      "Rating Density:  0.009634500584535506\n"
     ]
    }
   ],
   "source": [
    "rating_density = no_ratings / (no_movies * no_users)\n",
    "print(\"Rating Density: \", rating_density)"
   ]
  },
  {
   "cell_type": "code",
   "execution_count": 8,
   "metadata": {},
   "outputs": [
    {
     "data": {
      "text/plain": [
       "array(['tt8510350', 'tt3289956', 'tt0097179', ..., 'tt15316422',\n",
       "       'tt11834890', 'tt8045690'], dtype=object)"
      ]
     },
     "execution_count": 8,
     "metadata": {},
     "output_type": "execute_result"
    }
   ],
   "source": [
    "remaining_ids = ratings['movie id'].unique()\n",
    "remaining_ids"
   ]
  },
  {
   "cell_type": "code",
   "execution_count": 9,
   "metadata": {},
   "outputs": [],
   "source": [
    "remaining_movie_id_path = os.path.join('data/datasets/movie/', 'remaining_ids.txt')\n",
    "write_csv_file([[remaining_id] for remaining_id in remaining_ids], remaining_movie_id_path, 'w')"
   ]
  },
  {
   "cell_type": "code",
   "execution_count": 10,
   "metadata": {},
   "outputs": [],
   "source": [
    "all_movie_ids = open('./data/datasets/movie/ids.txt', 'r')\n",
    "all_movie_ids = all_movie_ids.readlines()\n",
    "all_movie_ids = [movie_id.strip() for movie_id in all_movie_ids]\n",
    "all_movie_ids = set(all_movie_ids)\n",
    "remaining_ids = set(remaining_ids)"
   ]
  },
  {
   "cell_type": "code",
   "execution_count": 11,
   "metadata": {},
   "outputs": [
    {
     "data": {
      "text/plain": [
       "['tt8205060',\n",
       " 'tt4842652',\n",
       " 'tt3952774',\n",
       " 'tt5459566',\n",
       " 'tt1224144',\n",
       " 'tt14037884',\n",
       " 'tt12439466',\n",
       " 'tt4016312',\n",
       " 'tt0457146',\n",
       " 'tt13660064',\n",
       " 'tt0203248',\n",
       " 'tt14690094',\n",
       " 'tt10095582',\n",
       " 'tt15523186',\n",
       " 'tt15764858',\n",
       " 'tt12865416',\n",
       " 'tt15026576',\n",
       " 'tt11725680',\n",
       " 'tt5075490',\n",
       " 'tt8191502',\n",
       " 'tt11204154',\n",
       " 'tt12693278',\n",
       " 'tt10710138',\n",
       " 'tt7146326',\n",
       " 'tt8207660',\n",
       " 'tt0414766',\n",
       " 'tt12680684',\n",
       " 'tt0159208',\n",
       " 'tt11641654',\n",
       " 'tt8456190',\n",
       " 'tt13311344',\n",
       " 'tt0127569',\n",
       " 'tt11698662',\n",
       " 'tt13453006',\n",
       " 'tt13387422',\n",
       " 'tt10934196',\n",
       " 'tt15141288',\n",
       " 'tt9590742',\n",
       " 'tt13148384',\n",
       " 'tt7446804',\n",
       " 'tt15181018',\n",
       " 'tt1638319',\n",
       " 'tt0327375',\n",
       " 'tt15709068',\n",
       " 'tt15796900',\n",
       " 'tt15261812',\n",
       " 'tt6892206',\n",
       " 'tt9907782',\n",
       " 'tt11034276',\n",
       " 'tt0899258',\n",
       " 'tt9714030',\n",
       " 'tt9009826',\n",
       " 'tt14473896',\n",
       " 'tt3777860',\n",
       " 'tt3528906',\n",
       " 'tt2341806',\n",
       " 'tt9896916',\n",
       " 'tt7708842',\n",
       " 'tt11548668',\n",
       " 'tt11947256',\n",
       " 'tt0092484',\n",
       " 'tt13260836',\n",
       " 'tt15808044',\n",
       " 'tt12362248',\n",
       " 'tt12831098',\n",
       " 'tt13411814',\n",
       " 'tt14354984',\n",
       " 'tt11260886',\n",
       " 'tt7032958',\n",
       " 'tt5337160',\n",
       " 'tt14844718',\n",
       " 'tt10698174',\n",
       " 'tt14012734',\n",
       " 'tt7010622',\n",
       " 'tt12235026',\n",
       " 'tt11093718',\n",
       " 'tt15185022',\n",
       " 'tt11247108',\n",
       " 'tt14810626',\n",
       " 'tt12779780',\n",
       " 'tt9170318',\n",
       " 'tt1105469',\n",
       " 'tt6467266',\n",
       " 'tt15554066',\n",
       " 'tt8205028',\n",
       " 'tt10306320',\n",
       " 'tt4834232',\n",
       " 'tt1680044',\n",
       " 'tt13905778',\n",
       " 'tt12708658',\n",
       " 'tt15381144',\n",
       " 'tt1833403',\n",
       " 'tt6296094',\n",
       " 'tt6848928',\n",
       " 'tt10766468',\n",
       " 'tt10952900',\n",
       " 'tt15686202',\n",
       " 'tt15781474',\n",
       " 'tt14785638',\n",
       " 'tt9220966',\n",
       " 'tt6703486',\n",
       " 'tt14687200',\n",
       " 'tt7049818',\n",
       " 'tt10147580',\n",
       " 'tt14112996',\n",
       " 'tt0106126',\n",
       " 'tt7886614',\n",
       " 'tt4787052',\n",
       " 'tt13400300',\n",
       " 'tt11382150',\n",
       " 'tt14251550',\n",
       " 'tt10328494',\n",
       " 'tt5768632',\n",
       " 'tt12326830',\n",
       " 'tt8253606',\n",
       " 'tt7068580',\n",
       " 'tt11131464',\n",
       " 'tt0395284',\n",
       " 'tt1679482',\n",
       " 'tt0271308',\n",
       " 'tt14034966',\n",
       " 'tt4773278',\n",
       " 'tt3899930',\n",
       " 'tt4956208',\n",
       " 'tt4843640',\n",
       " 'tt0064961',\n",
       " 'tt5981944',\n",
       " 'tt11173328',\n",
       " 'tt14475988',\n",
       " 'tt1831164',\n",
       " 'tt16161362',\n",
       " 'tt8295516',\n",
       " 'tt13723164',\n",
       " 'tt15813014',\n",
       " 'tt6475250',\n",
       " 'tt3900614',\n",
       " 'tt12497014',\n",
       " 'tt0233127',\n",
       " 'tt8128618',\n",
       " 'tt11918288',\n",
       " 'tt14598754',\n",
       " 'tt14935960',\n",
       " 'tt1594381',\n",
       " 'tt6264782',\n",
       " 'tt4057998',\n",
       " 'tt5846856',\n",
       " 'tt14814006',\n",
       " 'tt7517016',\n",
       " 'tt0401747',\n",
       " 'tt14296268',\n",
       " 'tt1181541',\n",
       " 'tt15758760',\n",
       " 'tt15340790',\n",
       " 'tt10984686',\n",
       " 'tt0845088',\n",
       " 'tt8927478',\n",
       " 'tt15599734',\n",
       " 'tt2825240',\n",
       " 'tt7270808',\n",
       " 'tt9735462',\n",
       " 'tt13635348',\n",
       " 'tt0108709',\n",
       " 'tt15427878',\n",
       " 'tt8005626',\n",
       " 'tt13758250',\n",
       " 'tt8192134',\n",
       " 'tt15221950',\n",
       " 'tt7026666',\n",
       " 'tt1615925',\n",
       " 'tt6728390',\n",
       " 'tt7015964',\n",
       " 'tt3039472',\n",
       " 'tt15074312',\n",
       " 'tt0943690',\n",
       " 'tt13131186',\n",
       " 'tt9863788',\n",
       " 'tt13207508',\n",
       " 'tt13673396',\n",
       " 'tt13470094',\n",
       " 'tt14759406',\n",
       " 'tt0115277',\n",
       " 'tt14411808',\n",
       " 'tt6953974',\n",
       " 'tt11953248',\n",
       " 'tt15139516',\n",
       " 'tt8478162',\n",
       " 'tt6572002',\n",
       " 'tt14994064',\n",
       " 'tt10650946',\n",
       " 'tt9848626',\n",
       " 'tt4291050',\n",
       " 'tt0127385',\n",
       " 'tt6237966',\n",
       " 'tt15847098',\n",
       " 'tt7927936',\n",
       " 'tt13445076',\n",
       " 'tt14888874',\n",
       " 'tt1198194',\n",
       " 'tt13022214',\n",
       " 'tt9844322',\n",
       " 'tt14849728',\n",
       " 'tt13275654',\n",
       " 'tt8433216',\n",
       " 'tt1743493',\n",
       " 'tt13131798',\n",
       " 'tt14534992',\n",
       " 'tt15863594',\n",
       " 'tt8575060',\n",
       " 'tt9100054',\n",
       " 'tt6148744',\n",
       " 'tt12409194',\n",
       " 'tt13488080',\n",
       " 'tt11121754',\n",
       " 'tt10540562',\n",
       " 'tt13891870',\n",
       " 'tt6121444',\n",
       " 'tt14609428',\n",
       " 'tt13651628',\n",
       " 'tt0081614',\n",
       " 'tt14321832',\n",
       " 'tt0398872',\n",
       " 'tt15000314',\n",
       " 'tt7063376',\n",
       " 'tt7539608',\n",
       " 'tt15289090',\n",
       " 'tt10308502',\n",
       " 'tt4163486',\n",
       " 'tt12744636',\n",
       " 'tt12451788',\n",
       " 'tt14115912',\n",
       " 'tt15146242',\n",
       " 'tt1608383',\n",
       " 'tt7748244',\n",
       " 'tt0125622',\n",
       " 'tt4947580',\n",
       " 'tt7144666',\n",
       " 'tt14979052',\n",
       " 'tt13676300',\n",
       " 'tt6235008',\n",
       " 'tt15470770',\n",
       " 'tt11777738']"
      ]
     },
     "execution_count": 11,
     "metadata": {},
     "output_type": "execute_result"
    }
   ],
   "source": [
    "eliminated_movie_ids = all_movie_ids.difference(remaining_ids)\n",
    "eliminated_movie_ids = list(eliminated_movie_ids)\n",
    "eliminated_movie_ids"
   ]
  },
  {
   "cell_type": "code",
   "execution_count": 12,
   "metadata": {},
   "outputs": [
    {
     "data": {
      "text/plain": [
       "241"
      ]
     },
     "execution_count": 12,
     "metadata": {},
     "output_type": "execute_result"
    }
   ],
   "source": [
    "no_eliminated_movie_ids = len(eliminated_movie_ids)\n",
    "no_eliminated_movie_ids"
   ]
  },
  {
   "cell_type": "code",
   "execution_count": 13,
   "metadata": {},
   "outputs": [],
   "source": [
    "eliminated_movie_id_path = os.path.join('data/datasets/movie/', 'eliminated_ids.txt')\n",
    "write_csv_file([[eliminated_movie_id] for eliminated_movie_id in eliminated_movie_ids], eliminated_movie_id_path, 'w')"
   ]
  },
  {
   "cell_type": "code",
   "execution_count": 14,
   "metadata": {},
   "outputs": [],
   "source": [
    "info = pd.DataFrame(columns=['Number of users', 'Number of movies', 'Number of ratings'])\n",
    "info['Number of users'] = [no_users]\n",
    "info['Number of movies'] = [no_movies]\n",
    "info['Number of ratings'] = [no_ratings]\n",
    "info.to_csv('./data/datasets/info.csv', sep=',', encoding='latin-1', index=False)"
   ]
  }
 ],
 "metadata": {
  "interpreter": {
   "hash": "ac59ebe37160ed0dfa835113d9b8498d9f09ceb179beaac4002f036b9467c963"
  },
  "kernelspec": {
   "display_name": "Python 3.9.7 64-bit",
   "language": "python",
   "name": "python3"
  },
  "language_info": {
   "codemirror_mode": {
    "name": "ipython",
    "version": 3
   },
   "file_extension": ".py",
   "mimetype": "text/x-python",
   "name": "python",
   "nbconvert_exporter": "python",
   "pygments_lexer": "ipython3",
   "version": "3.9.7"
  },
  "orig_nbformat": 4
 },
 "nbformat": 4,
 "nbformat_minor": 2
}
