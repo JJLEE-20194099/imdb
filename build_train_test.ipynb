{
 "cells": [
  {
   "cell_type": "code",
   "execution_count": 8,
   "metadata": {},
   "outputs": [],
   "source": [
    "import pandas as pd \n",
    "import seaborn as sns\n",
    "import numpy as np\n",
    "import os"
   ]
  },
  {
   "cell_type": "code",
   "execution_count": 9,
   "metadata": {},
   "outputs": [],
   "source": [
    "ratings = pd.read_csv('./data/datasets/rating/remaining_detail.csv', sep=',', encoding='latin-1')"
   ]
  },
  {
   "cell_type": "code",
   "execution_count": 10,
   "metadata": {},
   "outputs": [
    {
     "name": "stdout",
     "output_type": "stream",
     "text": [
      "<class 'pandas.core.frame.DataFrame'>\n",
      "RangeIndex: 127944 entries, 0 to 127943\n",
      "Data columns (total 7 columns):\n",
      " #   Column       Non-Null Count   Dtype \n",
      "---  ------       --------------   ----- \n",
      " 0   movie index  127944 non-null  int64 \n",
      " 1   movie id     127944 non-null  object\n",
      " 2   user id      127944 non-null  object\n",
      " 3   rating       127944 non-null  int64 \n",
      " 4   content      127944 non-null  object\n",
      " 5   date         127944 non-null  object\n",
      " 6   user index   127944 non-null  int64 \n",
      "dtypes: int64(3), object(4)\n",
      "memory usage: 6.8+ MB\n"
     ]
    }
   ],
   "source": [
    "ratings.info()"
   ]
  },
  {
   "cell_type": "code",
   "execution_count": 11,
   "metadata": {},
   "outputs": [
    {
     "data": {
      "text/plain": [
       "1414    5163\n",
       "1413    3175\n",
       "1412    2996\n",
       "1411    2827\n",
       "1410    2622\n",
       "        ... \n",
       "45        10\n",
       "0          9\n",
       "3          9\n",
       "1          9\n",
       "2          9\n",
       "Name: user index, Length: 1415, dtype: int64"
      ]
     },
     "execution_count": 11,
     "metadata": {},
     "output_type": "execute_result"
    }
   ],
   "source": [
    "ratings['user index'].value_counts()"
   ]
  },
  {
   "cell_type": "code",
   "execution_count": 12,
   "metadata": {},
   "outputs": [],
   "source": [
    "user_indexes = ratings['user index'].value_counts().index.tolist()"
   ]
  },
  {
   "cell_type": "code",
   "execution_count": 13,
   "metadata": {},
   "outputs": [
    {
     "name": "stdout",
     "output_type": "stream",
     "text": [
      "train: [     0      1      3 ... 127941 127942 127943], test: [     2      9     25 ... 127921 127925 127937]\n",
      "train: [     0      1      2 ... 127940 127941 127943], test: [     4     19     27 ... 127934 127939 127942]\n",
      "train: [     0      1      2 ... 127940 127941 127942], test: [     5      7     10 ... 127935 127938 127943]\n",
      "train: [     1      2      3 ... 127939 127942 127943], test: [     0      6     12 ... 127926 127940 127941]\n",
      "train: [     0      2      4 ... 127941 127942 127943], test: [     1      3      8 ... 127932 127933 127936]\n"
     ]
    }
   ],
   "source": [
    "from sklearn.model_selection import KFold\n",
    "kfold = KFold(5, shuffle=True)\n",
    "\n",
    "for train, test in kfold.split(ratings):\n",
    "\tprint('train: %s, test: %s' % (train, test))"
   ]
  },
  {
   "cell_type": "code",
   "execution_count": 14,
   "metadata": {},
   "outputs": [
    {
     "name": "stdout",
     "output_type": "stream",
     "text": [
      "<class 'pandas.core.frame.DataFrame'>\n"
     ]
    }
   ],
   "source": [
    "from sklearn.model_selection import KFold\n",
    "import os\n",
    "kfold = KFold(5)\n",
    "print(type(ratings))\n",
    "os.makedirs('./data/datasets/rating/kfold', exist_ok= True)\n",
    "i = 1\n",
    "for train_pos, test_pos in kfold.split(ratings):\n",
    "\ttrain = ratings.iloc[train_pos]\n",
    "\ttest = ratings.iloc[test_pos]\n",
    "\ttrain_path = './data/datasets/rating/kfold/' + 'u' + str(i) + '.base.csv'\n",
    "\ttrain.to_csv(train_path, sep=',', encoding='latin-1', index=False)\n",
    "\t\n",
    "\ttest_path = './data/datasets/rating/kfold/' + 'u' + str(i) + '.test.csv'\n",
    "\ttest.to_csv(test_path, sep=',', encoding='latin-1', index=False)\n",
    "\ti = i + 1\n",
    "    "
   ]
  }
 ],
 "metadata": {
  "interpreter": {
   "hash": "ac59ebe37160ed0dfa835113d9b8498d9f09ceb179beaac4002f036b9467c963"
  },
  "kernelspec": {
   "display_name": "Python 3.9.7 64-bit",
   "language": "python",
   "name": "python3"
  },
  "language_info": {
   "codemirror_mode": {
    "name": "ipython",
    "version": 3
   },
   "file_extension": ".py",
   "mimetype": "text/x-python",
   "name": "python",
   "nbconvert_exporter": "python",
   "pygments_lexer": "ipython3",
   "version": "3.9.7"
  },
  "orig_nbformat": 4
 },
 "nbformat": 4,
 "nbformat_minor": 2
}
