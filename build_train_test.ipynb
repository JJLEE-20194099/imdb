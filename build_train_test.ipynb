{
 "cells": [
  {
   "cell_type": "code",
   "execution_count": 1,
   "metadata": {},
   "outputs": [],
   "source": [
    "import pandas as pd \n",
    "import seaborn as sns\n",
    "import numpy as np\n",
    "import os"
   ]
  },
  {
   "cell_type": "code",
   "execution_count": 2,
   "metadata": {},
   "outputs": [],
   "source": [
    "ratings = pd.read_csv('./data/datasets/rating/ml_details.csv', sep=',', encoding='latin-1')"
   ]
  },
  {
   "cell_type": "code",
   "execution_count": 3,
   "metadata": {},
   "outputs": [
    {
     "name": "stdout",
     "output_type": "stream",
     "text": [
      "<class 'pandas.core.frame.DataFrame'>\n",
      "RangeIndex: 118390 entries, 0 to 118389\n",
      "Data columns (total 7 columns):\n",
      " #   Column       Non-Null Count   Dtype \n",
      "---  ------       --------------   ----- \n",
      " 0   movie index  118390 non-null  int64 \n",
      " 1   movie id     118390 non-null  object\n",
      " 2   user id      118390 non-null  object\n",
      " 3   rating       118390 non-null  int64 \n",
      " 4   content      118390 non-null  object\n",
      " 5   date         118390 non-null  object\n",
      " 6   user index   118390 non-null  int64 \n",
      "dtypes: int64(3), object(4)\n",
      "memory usage: 6.3+ MB\n"
     ]
    }
   ],
   "source": [
    "ratings.info()"
   ]
  },
  {
   "cell_type": "code",
   "execution_count": 4,
   "metadata": {},
   "outputs": [
    {
     "data": {
      "text/plain": [
       "1414    4903\n",
       "1413    2999\n",
       "1412    2871\n",
       "1411    2631\n",
       "1410    2400\n",
       "        ... \n",
       "179        5\n",
       "93         5\n",
       "170        5\n",
       "119        4\n",
       "163        4\n",
       "Name: user index, Length: 1415, dtype: int64"
      ]
     },
     "execution_count": 4,
     "metadata": {},
     "output_type": "execute_result"
    }
   ],
   "source": [
    "ratings['user index'].value_counts()"
   ]
  },
  {
   "cell_type": "code",
   "execution_count": 5,
   "metadata": {},
   "outputs": [],
   "source": [
    "user_indexes = ratings['user index'].value_counts().index.tolist()"
   ]
  },
  {
   "cell_type": "code",
   "execution_count": 6,
   "metadata": {},
   "outputs": [
    {
     "name": "stdout",
     "output_type": "stream",
     "text": [
      "train: [     0      1      2 ... 118386 118388 118389], test: [     5     17     18 ... 118374 118375 118387]\n",
      "train: [     0      3      5 ... 118387 118388 118389], test: [     1      2      4 ... 118357 118361 118366]\n",
      "train: [     1      2      3 ... 118387 118388 118389], test: [     0      9     14 ... 118383 118384 118385]\n",
      "train: [     0      1      2 ... 118386 118387 118388], test: [     3      6      8 ... 118379 118380 118389]\n",
      "train: [     0      1      2 ... 118385 118387 118389], test: [     7     12     15 ... 118382 118386 118388]\n"
     ]
    }
   ],
   "source": [
    "from sklearn.model_selection import KFold\n",
    "kfold = KFold(5, shuffle=True)\n",
    "\n",
    "for train, test in kfold.split(ratings):\n",
    "\tprint('train: %s, test: %s' % (train, test))"
   ]
  },
  {
   "cell_type": "code",
   "execution_count": 7,
   "metadata": {},
   "outputs": [
    {
     "name": "stdout",
     "output_type": "stream",
     "text": [
      "<class 'pandas.core.frame.DataFrame'>\n"
     ]
    }
   ],
   "source": [
    "from sklearn.model_selection import KFold\n",
    "import os\n",
    "kfold = KFold(5)\n",
    "print(type(ratings))\n",
    "os.makedirs('./data/datasets/rating/kfold', exist_ok= True)\n",
    "i = 1\n",
    "for train_pos, test_pos in kfold.split(ratings):\n",
    "\ttrain = ratings.iloc[train_pos]\n",
    "\ttest = ratings.iloc[test_pos]\n",
    "\ttrain_path = './data/datasets/rating/kfold/' + 'u' + str(i) + '.base.csv'\n",
    "\ttrain.to_csv(train_path, sep=',', encoding='latin-1', index=False)\n",
    "\t\n",
    "\ttest_path = './data/datasets/rating/kfold/' + 'u' + str(i) + '.test.csv'\n",
    "\ttest.to_csv(test_path, sep=',', encoding='latin-1', index=False)\n",
    "\ti = i + 1\n",
    "    "
   ]
  }
 ],
 "metadata": {
  "interpreter": {
   "hash": "ac59ebe37160ed0dfa835113d9b8498d9f09ceb179beaac4002f036b9467c963"
  },
  "kernelspec": {
   "display_name": "Python 3.9.7 64-bit",
   "language": "python",
   "name": "python3"
  },
  "language_info": {
   "codemirror_mode": {
    "name": "ipython",
    "version": 3
   },
   "file_extension": ".py",
   "mimetype": "text/x-python",
   "name": "python",
   "nbconvert_exporter": "python",
   "pygments_lexer": "ipython3",
   "version": "3.9.7"
  },
  "orig_nbformat": 4
 },
 "nbformat": 4,
 "nbformat_minor": 2
}
