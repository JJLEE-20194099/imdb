{
 "cells": [
  {
   "cell_type": "code",
   "execution_count": 83,
   "metadata": {},
   "outputs": [],
   "source": [
    "import pandas as pd \n",
    "import seaborn as sns\n",
    "import numpy as np\n",
    "import os"
   ]
  },
  {
   "cell_type": "code",
   "execution_count": 84,
   "metadata": {},
   "outputs": [],
   "source": [
    "ratings = pd.read_csv('./data/datasets/rating/data.csv', sep=',', encoding='latin-1')"
   ]
  },
  {
   "cell_type": "code",
   "execution_count": 85,
   "metadata": {},
   "outputs": [
    {
     "name": "stdout",
     "output_type": "stream",
     "text": [
      "<class 'pandas.core.frame.DataFrame'>\n",
      "RangeIndex: 7028 entries, 0 to 7027\n",
      "Data columns (total 4 columns):\n",
      " #   Column     Non-Null Count  Dtype \n",
      "---  ------     --------------  ----- \n",
      " 0   user id    7028 non-null   object\n",
      " 1   movie id   7028 non-null   object\n",
      " 2   rating     7028 non-null   int64 \n",
      " 3   timestamp  7028 non-null   object\n",
      "dtypes: int64(1), object(3)\n",
      "memory usage: 219.8+ KB\n"
     ]
    }
   ],
   "source": [
    "ratings.info()"
   ]
  },
  {
   "cell_type": "code",
   "execution_count": 86,
   "metadata": {},
   "outputs": [
    {
     "data": {
      "text/plain": [
       "ur2403761      100\n",
       "ur80394647     100\n",
       "ur0478766      100\n",
       "ur55644619     100\n",
       "ur45706710     100\n",
       "              ... \n",
       "ur90907172       3\n",
       "ur124569037      2\n",
       "ur117662415      2\n",
       "ur119783508      2\n",
       "ur78483971       1\n",
       "Name: user id, Length: 104, dtype: int64"
      ]
     },
     "execution_count": 86,
     "metadata": {},
     "output_type": "execute_result"
    }
   ],
   "source": [
    "ratings['user id'].value_counts()"
   ]
  },
  {
   "cell_type": "code",
   "execution_count": 87,
   "metadata": {},
   "outputs": [
    {
     "name": "stdout",
     "output_type": "stream",
     "text": [
      "104\n"
     ]
    }
   ],
   "source": [
    "user_ids = ratings['user id'].value_counts().index.tolist()\n",
    "print(len(user_ids))"
   ]
  },
  {
   "cell_type": "code",
   "execution_count": 88,
   "metadata": {},
   "outputs": [
    {
     "name": "stdout",
     "output_type": "stream",
     "text": [
      "4965\n"
     ]
    }
   ],
   "source": [
    "movie_ids = ratings['movie id'].value_counts().index.tolist()\n",
    "print(len(movie_ids))"
   ]
  },
  {
   "cell_type": "code",
   "execution_count": 89,
   "metadata": {},
   "outputs": [],
   "source": [
    "from src.text_csv_utils import write_csv_file\n",
    "RATING_OUTPUT = 'data/datasets/rating'\n",
    "os.makedirs(RATING_OUTPUT, exist_ok = True)\n",
    "rating_train_file_path = os.path.join(RATING_OUTPUT, 'train.csv')\n",
    "rating_test_file_path = os.path.join(RATING_OUTPUT, 'test.csv')\n",
    "write_csv_file([['user id', 'movie id', 'rating', 'timestamp']], rating_train_file_path, 'w')\n",
    "write_csv_file([['user id', 'movie id', 'rating', 'timestamp']], rating_test_file_path, 'w')\n",
    "for user_id in user_ids:\n",
    "    rating = ratings[ratings['user id'] == user_id]\n",
    "    n = len(rating)\n",
    "    rating_train = rating[:n]\n",
    "    rating_test = rating[n:]\n",
    "    \n",
    "    rating_train.to_csv(rating_train_file_path, mode='a', header=False, index=False)\n",
    "    rating_test.to_csv(rating_test_file_path, mode='a', header=False, index=False)\n",
    "        "
   ]
  },
  {
   "cell_type": "code",
   "execution_count": 90,
   "metadata": {},
   "outputs": [],
   "source": [
    "rating_train = pd.read_csv('./data/datasets/rating/train.csv', sep=',')\n",
    "rating_test = pd.read_csv('./data/datasets/rating/test.csv', sep=',')"
   ]
  },
  {
   "cell_type": "code",
   "execution_count": 91,
   "metadata": {},
   "outputs": [
    {
     "data": {
      "text/html": [
       "<div>\n",
       "<style scoped>\n",
       "    .dataframe tbody tr th:only-of-type {\n",
       "        vertical-align: middle;\n",
       "    }\n",
       "\n",
       "    .dataframe tbody tr th {\n",
       "        vertical-align: top;\n",
       "    }\n",
       "\n",
       "    .dataframe thead th {\n",
       "        text-align: right;\n",
       "    }\n",
       "</style>\n",
       "<table border=\"1\" class=\"dataframe\">\n",
       "  <thead>\n",
       "    <tr style=\"text-align: right;\">\n",
       "      <th></th>\n",
       "      <th>user id</th>\n",
       "      <th>movie id</th>\n",
       "      <th>rating</th>\n",
       "      <th>timestamp</th>\n",
       "    </tr>\n",
       "  </thead>\n",
       "  <tbody>\n",
       "    <tr>\n",
       "      <th>0</th>\n",
       "      <td>ur2403761</td>\n",
       "      <td>tt14867006</td>\n",
       "      <td>1</td>\n",
       "      <td>Rated on 29 Nov 2021</td>\n",
       "    </tr>\n",
       "    <tr>\n",
       "      <th>1</th>\n",
       "      <td>ur2403761</td>\n",
       "      <td>tt1823059</td>\n",
       "      <td>1</td>\n",
       "      <td>Rated on 29 Nov 2021</td>\n",
       "    </tr>\n",
       "    <tr>\n",
       "      <th>2</th>\n",
       "      <td>ur2403761</td>\n",
       "      <td>tt10752004</td>\n",
       "      <td>7</td>\n",
       "      <td>Rated on 29 Nov 2021</td>\n",
       "    </tr>\n",
       "    <tr>\n",
       "      <th>3</th>\n",
       "      <td>ur2403761</td>\n",
       "      <td>tt13357086</td>\n",
       "      <td>4</td>\n",
       "      <td>Rated on 29 Nov 2021</td>\n",
       "    </tr>\n",
       "    <tr>\n",
       "      <th>4</th>\n",
       "      <td>ur2403761</td>\n",
       "      <td>tt4622108</td>\n",
       "      <td>4</td>\n",
       "      <td>Rated on 28 Nov 2021</td>\n",
       "    </tr>\n",
       "  </tbody>\n",
       "</table>\n",
       "</div>"
      ],
      "text/plain": [
       "     user id    movie id  rating             timestamp\n",
       "0  ur2403761  tt14867006       1  Rated on 29 Nov 2021\n",
       "1  ur2403761   tt1823059       1  Rated on 29 Nov 2021\n",
       "2  ur2403761  tt10752004       7  Rated on 29 Nov 2021\n",
       "3  ur2403761  tt13357086       4  Rated on 29 Nov 2021\n",
       "4  ur2403761   tt4622108       4  Rated on 28 Nov 2021"
      ]
     },
     "execution_count": 91,
     "metadata": {},
     "output_type": "execute_result"
    }
   ],
   "source": [
    "rating_train.head()"
   ]
  },
  {
   "cell_type": "code",
   "execution_count": 92,
   "metadata": {},
   "outputs": [
    {
     "data": {
      "text/plain": [
       "104"
      ]
     },
     "execution_count": 92,
     "metadata": {},
     "output_type": "execute_result"
    }
   ],
   "source": [
    "len(rating_train['user id'].value_counts().index.tolist())"
   ]
  },
  {
   "cell_type": "code",
   "execution_count": 93,
   "metadata": {},
   "outputs": [
    {
     "data": {
      "text/html": [
       "<div>\n",
       "<style scoped>\n",
       "    .dataframe tbody tr th:only-of-type {\n",
       "        vertical-align: middle;\n",
       "    }\n",
       "\n",
       "    .dataframe tbody tr th {\n",
       "        vertical-align: top;\n",
       "    }\n",
       "\n",
       "    .dataframe thead th {\n",
       "        text-align: right;\n",
       "    }\n",
       "</style>\n",
       "<table border=\"1\" class=\"dataframe\">\n",
       "  <thead>\n",
       "    <tr style=\"text-align: right;\">\n",
       "      <th></th>\n",
       "      <th>user id</th>\n",
       "      <th>movie id</th>\n",
       "      <th>rating</th>\n",
       "      <th>timestamp</th>\n",
       "    </tr>\n",
       "  </thead>\n",
       "  <tbody>\n",
       "  </tbody>\n",
       "</table>\n",
       "</div>"
      ],
      "text/plain": [
       "Empty DataFrame\n",
       "Columns: [user id, movie id, rating, timestamp]\n",
       "Index: []"
      ]
     },
     "execution_count": 93,
     "metadata": {},
     "output_type": "execute_result"
    }
   ],
   "source": [
    "rating_test.head()"
   ]
  },
  {
   "cell_type": "code",
   "execution_count": 94,
   "metadata": {},
   "outputs": [
    {
     "data": {
      "text/plain": [
       "0"
      ]
     },
     "execution_count": 94,
     "metadata": {},
     "output_type": "execute_result"
    }
   ],
   "source": [
    "len(rating_test['user id'].value_counts().index.tolist())"
   ]
  },
  {
   "cell_type": "code",
   "execution_count": 95,
   "metadata": {},
   "outputs": [
    {
     "data": {
      "text/html": [
       "<div>\n",
       "<style scoped>\n",
       "    .dataframe tbody tr th:only-of-type {\n",
       "        vertical-align: middle;\n",
       "    }\n",
       "\n",
       "    .dataframe tbody tr th {\n",
       "        vertical-align: top;\n",
       "    }\n",
       "\n",
       "    .dataframe thead th {\n",
       "        text-align: right;\n",
       "    }\n",
       "</style>\n",
       "<table border=\"1\" class=\"dataframe\">\n",
       "  <thead>\n",
       "    <tr style=\"text-align: right;\">\n",
       "      <th></th>\n",
       "      <th>user id</th>\n",
       "      <th>movie id</th>\n",
       "      <th>rating</th>\n",
       "      <th>timestamp</th>\n",
       "    </tr>\n",
       "  </thead>\n",
       "  <tbody>\n",
       "    <tr>\n",
       "      <th>0</th>\n",
       "      <td>ur2403761</td>\n",
       "      <td>tt14867006</td>\n",
       "      <td>1</td>\n",
       "      <td>Rated on 29 Nov 2021</td>\n",
       "    </tr>\n",
       "    <tr>\n",
       "      <th>1</th>\n",
       "      <td>ur2403761</td>\n",
       "      <td>tt1823059</td>\n",
       "      <td>1</td>\n",
       "      <td>Rated on 29 Nov 2021</td>\n",
       "    </tr>\n",
       "    <tr>\n",
       "      <th>2</th>\n",
       "      <td>ur2403761</td>\n",
       "      <td>tt10752004</td>\n",
       "      <td>7</td>\n",
       "      <td>Rated on 29 Nov 2021</td>\n",
       "    </tr>\n",
       "    <tr>\n",
       "      <th>3</th>\n",
       "      <td>ur2403761</td>\n",
       "      <td>tt13357086</td>\n",
       "      <td>4</td>\n",
       "      <td>Rated on 29 Nov 2021</td>\n",
       "    </tr>\n",
       "    <tr>\n",
       "      <th>4</th>\n",
       "      <td>ur2403761</td>\n",
       "      <td>tt4622108</td>\n",
       "      <td>4</td>\n",
       "      <td>Rated on 28 Nov 2021</td>\n",
       "    </tr>\n",
       "    <tr>\n",
       "      <th>...</th>\n",
       "      <td>...</td>\n",
       "      <td>...</td>\n",
       "      <td>...</td>\n",
       "      <td>...</td>\n",
       "    </tr>\n",
       "    <tr>\n",
       "      <th>7023</th>\n",
       "      <td>ur117662415</td>\n",
       "      <td>tt8297022</td>\n",
       "      <td>2</td>\n",
       "      <td>Rated on 20 Aug 2020</td>\n",
       "    </tr>\n",
       "    <tr>\n",
       "      <th>7024</th>\n",
       "      <td>ur117662415</td>\n",
       "      <td>tt6468322</td>\n",
       "      <td>1</td>\n",
       "      <td>Rated on 01 May 2020</td>\n",
       "    </tr>\n",
       "    <tr>\n",
       "      <th>7025</th>\n",
       "      <td>ur119783508</td>\n",
       "      <td>tt0338621</td>\n",
       "      <td>10</td>\n",
       "      <td>Rated on 15 Jun 2020</td>\n",
       "    </tr>\n",
       "    <tr>\n",
       "      <th>7026</th>\n",
       "      <td>ur119783508</td>\n",
       "      <td>tt0111161</td>\n",
       "      <td>5</td>\n",
       "      <td>Rated on 15 Jun 2020</td>\n",
       "    </tr>\n",
       "    <tr>\n",
       "      <th>7027</th>\n",
       "      <td>ur78483971</td>\n",
       "      <td>tt3293184</td>\n",
       "      <td>8</td>\n",
       "      <td>Rated on 18 Jul 2017</td>\n",
       "    </tr>\n",
       "  </tbody>\n",
       "</table>\n",
       "<p>7028 rows × 4 columns</p>\n",
       "</div>"
      ],
      "text/plain": [
       "          user id    movie id  rating             timestamp\n",
       "0       ur2403761  tt14867006       1  Rated on 29 Nov 2021\n",
       "1       ur2403761   tt1823059       1  Rated on 29 Nov 2021\n",
       "2       ur2403761  tt10752004       7  Rated on 29 Nov 2021\n",
       "3       ur2403761  tt13357086       4  Rated on 29 Nov 2021\n",
       "4       ur2403761   tt4622108       4  Rated on 28 Nov 2021\n",
       "...           ...         ...     ...                   ...\n",
       "7023  ur117662415   tt8297022       2  Rated on 20 Aug 2020\n",
       "7024  ur117662415   tt6468322       1  Rated on 01 May 2020\n",
       "7025  ur119783508   tt0338621      10  Rated on 15 Jun 2020\n",
       "7026  ur119783508   tt0111161       5  Rated on 15 Jun 2020\n",
       "7027   ur78483971   tt3293184       8  Rated on 18 Jul 2017\n",
       "\n",
       "[7028 rows x 4 columns]"
      ]
     },
     "execution_count": 95,
     "metadata": {},
     "output_type": "execute_result"
    }
   ],
   "source": [
    "rating_train"
   ]
  },
  {
   "cell_type": "code",
   "execution_count": 96,
   "metadata": {},
   "outputs": [],
   "source": [
    "user_ids = ratings['user id'].value_counts().index.tolist()\n",
    "movie_ids = ratings['movie id'].value_counts().index.tolist()"
   ]
  },
  {
   "cell_type": "code",
   "execution_count": 97,
   "metadata": {},
   "outputs": [],
   "source": [
    "format_user_id_dict = dict()\n",
    "for i in range(len(user_ids)):\n",
    "    format_user_id_dict.update({user_ids[i]: i})"
   ]
  },
  {
   "cell_type": "code",
   "execution_count": 98,
   "metadata": {},
   "outputs": [],
   "source": [
    "format_movie_id_dict = dict()\n",
    "for i in range(len(movie_ids)):\n",
    "    format_movie_id_dict.update({movie_ids[i]: i})"
   ]
  },
  {
   "cell_type": "code",
   "execution_count": 99,
   "metadata": {},
   "outputs": [
    {
     "data": {
      "text/html": [
       "<div>\n",
       "<style scoped>\n",
       "    .dataframe tbody tr th:only-of-type {\n",
       "        vertical-align: middle;\n",
       "    }\n",
       "\n",
       "    .dataframe tbody tr th {\n",
       "        vertical-align: top;\n",
       "    }\n",
       "\n",
       "    .dataframe thead th {\n",
       "        text-align: right;\n",
       "    }\n",
       "</style>\n",
       "<table border=\"1\" class=\"dataframe\">\n",
       "  <thead>\n",
       "    <tr style=\"text-align: right;\">\n",
       "      <th></th>\n",
       "      <th>user id</th>\n",
       "      <th>movie id</th>\n",
       "      <th>rating</th>\n",
       "      <th>timestamp</th>\n",
       "    </tr>\n",
       "  </thead>\n",
       "  <tbody>\n",
       "    <tr>\n",
       "      <th>0</th>\n",
       "      <td>ur2403761</td>\n",
       "      <td>tt14867006</td>\n",
       "      <td>1</td>\n",
       "      <td>Rated on 29 Nov 2021</td>\n",
       "    </tr>\n",
       "    <tr>\n",
       "      <th>1</th>\n",
       "      <td>ur2403761</td>\n",
       "      <td>tt1823059</td>\n",
       "      <td>1</td>\n",
       "      <td>Rated on 29 Nov 2021</td>\n",
       "    </tr>\n",
       "    <tr>\n",
       "      <th>2</th>\n",
       "      <td>ur2403761</td>\n",
       "      <td>tt10752004</td>\n",
       "      <td>7</td>\n",
       "      <td>Rated on 29 Nov 2021</td>\n",
       "    </tr>\n",
       "    <tr>\n",
       "      <th>3</th>\n",
       "      <td>ur2403761</td>\n",
       "      <td>tt13357086</td>\n",
       "      <td>4</td>\n",
       "      <td>Rated on 29 Nov 2021</td>\n",
       "    </tr>\n",
       "    <tr>\n",
       "      <th>4</th>\n",
       "      <td>ur2403761</td>\n",
       "      <td>tt4622108</td>\n",
       "      <td>4</td>\n",
       "      <td>Rated on 28 Nov 2021</td>\n",
       "    </tr>\n",
       "  </tbody>\n",
       "</table>\n",
       "</div>"
      ],
      "text/plain": [
       "     user id    movie id  rating             timestamp\n",
       "0  ur2403761  tt14867006       1  Rated on 29 Nov 2021\n",
       "1  ur2403761   tt1823059       1  Rated on 29 Nov 2021\n",
       "2  ur2403761  tt10752004       7  Rated on 29 Nov 2021\n",
       "3  ur2403761  tt13357086       4  Rated on 29 Nov 2021\n",
       "4  ur2403761   tt4622108       4  Rated on 28 Nov 2021"
      ]
     },
     "execution_count": 99,
     "metadata": {},
     "output_type": "execute_result"
    }
   ],
   "source": [
    "rating_train.head()"
   ]
  },
  {
   "cell_type": "code",
   "execution_count": 100,
   "metadata": {},
   "outputs": [],
   "source": [
    "formatted_user_id = []\n",
    "formatted_movie_id = []\n",
    "for i in range(len(rating_train)):\n",
    "    user_id = rating_train.iloc[i]['user id']\n",
    "    formatted_user_id.append(format_user_id_dict[user_id])\n",
    "    movie_id = rating_train.iloc[i]['movie id']\n",
    "    formatted_movie_id.append(format_movie_id_dict[movie_id])\n",
    "\n",
    "rating_train['formatted user id'] = formatted_user_id\n",
    "rating_train['formatted movie id'] = formatted_movie_id\n",
    "    "
   ]
  },
  {
   "cell_type": "code",
   "execution_count": 101,
   "metadata": {},
   "outputs": [],
   "source": [
    "formatted_user_id = []\n",
    "formatted_movie_id = []\n",
    "for i in range(len(rating_test)):\n",
    "    user_id = rating_test.iloc[i]['user id']\n",
    "    formatted_user_id.append(format_user_id_dict[user_id])\n",
    "    movie_id = rating_test.iloc[i]['movie id']\n",
    "    formatted_movie_id.append(format_movie_id_dict[movie_id])\n",
    "\n",
    "rating_test['formatted user id'] = formatted_user_id\n",
    "rating_test['formatted movie id'] = formatted_movie_id\n",
    "    "
   ]
  },
  {
   "cell_type": "code",
   "execution_count": 102,
   "metadata": {},
   "outputs": [
    {
     "data": {
      "text/html": [
       "<div>\n",
       "<style scoped>\n",
       "    .dataframe tbody tr th:only-of-type {\n",
       "        vertical-align: middle;\n",
       "    }\n",
       "\n",
       "    .dataframe tbody tr th {\n",
       "        vertical-align: top;\n",
       "    }\n",
       "\n",
       "    .dataframe thead th {\n",
       "        text-align: right;\n",
       "    }\n",
       "</style>\n",
       "<table border=\"1\" class=\"dataframe\">\n",
       "  <thead>\n",
       "    <tr style=\"text-align: right;\">\n",
       "      <th></th>\n",
       "      <th>user id</th>\n",
       "      <th>movie id</th>\n",
       "      <th>rating</th>\n",
       "      <th>timestamp</th>\n",
       "      <th>formatted user id</th>\n",
       "      <th>formatted movie id</th>\n",
       "    </tr>\n",
       "  </thead>\n",
       "  <tbody>\n",
       "  </tbody>\n",
       "</table>\n",
       "</div>"
      ],
      "text/plain": [
       "Empty DataFrame\n",
       "Columns: [user id, movie id, rating, timestamp, formatted user id, formatted movie id]\n",
       "Index: []"
      ]
     },
     "execution_count": 102,
     "metadata": {},
     "output_type": "execute_result"
    }
   ],
   "source": [
    "rating_test"
   ]
  },
  {
   "cell_type": "code",
   "execution_count": 103,
   "metadata": {},
   "outputs": [],
   "source": [
    "rating_train = rating_train[['formatted user id', 'formatted movie id', 'rating']]\n",
    "rating_test = rating_test[['formatted user id', 'formatted movie id', 'rating']]"
   ]
  },
  {
   "cell_type": "code",
   "execution_count": 104,
   "metadata": {},
   "outputs": [],
   "source": [
    "from src.text_csv_utils import write_csv_file\n",
    "RATING_OUTPUT = './data/datasets/rating'\n",
    "rating_train_file_path = os.path.join(RATING_OUTPUT, 'train.csv')\n",
    "rating_test_file_path = os.path.join(RATING_OUTPUT, 'test.csv')\n",
    "write_csv_file([['user id', 'movie id', 'rating']], rating_train_file_path, 'w')\n",
    "write_csv_file([['user id', 'movie id', 'rating']], rating_test_file_path, 'w')\n",
    "rating_train.to_csv(rating_train_file_path, mode='a', header=False, index=False)\n",
    "rating_test.to_csv(rating_test_file_path, mode='a', header=False, index=False)\n",
    "   "
   ]
  },
  {
   "cell_type": "code",
   "execution_count": 105,
   "metadata": {},
   "outputs": [
    {
     "data": {
      "text/html": [
       "<div>\n",
       "<style scoped>\n",
       "    .dataframe tbody tr th:only-of-type {\n",
       "        vertical-align: middle;\n",
       "    }\n",
       "\n",
       "    .dataframe tbody tr th {\n",
       "        vertical-align: top;\n",
       "    }\n",
       "\n",
       "    .dataframe thead th {\n",
       "        text-align: right;\n",
       "    }\n",
       "</style>\n",
       "<table border=\"1\" class=\"dataframe\">\n",
       "  <thead>\n",
       "    <tr style=\"text-align: right;\">\n",
       "      <th></th>\n",
       "      <th>formatted user id</th>\n",
       "      <th>formatted movie id</th>\n",
       "      <th>rating</th>\n",
       "    </tr>\n",
       "  </thead>\n",
       "  <tbody>\n",
       "    <tr>\n",
       "      <th>0</th>\n",
       "      <td>0</td>\n",
       "      <td>4035</td>\n",
       "      <td>1</td>\n",
       "    </tr>\n",
       "    <tr>\n",
       "      <th>1</th>\n",
       "      <td>0</td>\n",
       "      <td>790</td>\n",
       "      <td>1</td>\n",
       "    </tr>\n",
       "    <tr>\n",
       "      <th>2</th>\n",
       "      <td>0</td>\n",
       "      <td>767</td>\n",
       "      <td>7</td>\n",
       "    </tr>\n",
       "    <tr>\n",
       "      <th>3</th>\n",
       "      <td>0</td>\n",
       "      <td>4036</td>\n",
       "      <td>4</td>\n",
       "    </tr>\n",
       "    <tr>\n",
       "      <th>4</th>\n",
       "      <td>0</td>\n",
       "      <td>4037</td>\n",
       "      <td>4</td>\n",
       "    </tr>\n",
       "    <tr>\n",
       "      <th>...</th>\n",
       "      <td>...</td>\n",
       "      <td>...</td>\n",
       "      <td>...</td>\n",
       "    </tr>\n",
       "    <tr>\n",
       "      <th>7023</th>\n",
       "      <td>101</td>\n",
       "      <td>2156</td>\n",
       "      <td>2</td>\n",
       "    </tr>\n",
       "    <tr>\n",
       "      <th>7024</th>\n",
       "      <td>101</td>\n",
       "      <td>262</td>\n",
       "      <td>1</td>\n",
       "    </tr>\n",
       "    <tr>\n",
       "      <th>7025</th>\n",
       "      <td>102</td>\n",
       "      <td>3243</td>\n",
       "      <td>10</td>\n",
       "    </tr>\n",
       "    <tr>\n",
       "      <th>7026</th>\n",
       "      <td>102</td>\n",
       "      <td>35</td>\n",
       "      <td>5</td>\n",
       "    </tr>\n",
       "    <tr>\n",
       "      <th>7027</th>\n",
       "      <td>103</td>\n",
       "      <td>2953</td>\n",
       "      <td>8</td>\n",
       "    </tr>\n",
       "  </tbody>\n",
       "</table>\n",
       "<p>7028 rows × 3 columns</p>\n",
       "</div>"
      ],
      "text/plain": [
       "      formatted user id  formatted movie id  rating\n",
       "0                     0                4035       1\n",
       "1                     0                 790       1\n",
       "2                     0                 767       7\n",
       "3                     0                4036       4\n",
       "4                     0                4037       4\n",
       "...                 ...                 ...     ...\n",
       "7023                101                2156       2\n",
       "7024                101                 262       1\n",
       "7025                102                3243      10\n",
       "7026                102                  35       5\n",
       "7027                103                2953       8\n",
       "\n",
       "[7028 rows x 3 columns]"
      ]
     },
     "execution_count": 105,
     "metadata": {},
     "output_type": "execute_result"
    }
   ],
   "source": [
    "rating_train"
   ]
  },
  {
   "cell_type": "code",
   "execution_count": 106,
   "metadata": {},
   "outputs": [],
   "source": [
    "rating_train = pd.read_csv('./data/datasets/rating/train.csv', sep=',')\n",
    "rating_test = pd.read_csv('./data/datasets/rating/test.csv', sep=',')"
   ]
  },
  {
   "cell_type": "code",
   "execution_count": 107,
   "metadata": {},
   "outputs": [
    {
     "data": {
      "text/html": [
       "<div>\n",
       "<style scoped>\n",
       "    .dataframe tbody tr th:only-of-type {\n",
       "        vertical-align: middle;\n",
       "    }\n",
       "\n",
       "    .dataframe tbody tr th {\n",
       "        vertical-align: top;\n",
       "    }\n",
       "\n",
       "    .dataframe thead th {\n",
       "        text-align: right;\n",
       "    }\n",
       "</style>\n",
       "<table border=\"1\" class=\"dataframe\">\n",
       "  <thead>\n",
       "    <tr style=\"text-align: right;\">\n",
       "      <th></th>\n",
       "      <th>user id</th>\n",
       "      <th>movie id</th>\n",
       "      <th>rating</th>\n",
       "    </tr>\n",
       "  </thead>\n",
       "  <tbody>\n",
       "  </tbody>\n",
       "</table>\n",
       "</div>"
      ],
      "text/plain": [
       "Empty DataFrame\n",
       "Columns: [user id, movie id, rating]\n",
       "Index: []"
      ]
     },
     "execution_count": 107,
     "metadata": {},
     "output_type": "execute_result"
    }
   ],
   "source": [
    "rating_test"
   ]
  }
 ],
 "metadata": {
  "interpreter": {
   "hash": "ac59ebe37160ed0dfa835113d9b8498d9f09ceb179beaac4002f036b9467c963"
  },
  "kernelspec": {
   "display_name": "Python 3.9.7 64-bit",
   "language": "python",
   "name": "python3"
  },
  "language_info": {
   "codemirror_mode": {
    "name": "ipython",
    "version": 3
   },
   "file_extension": ".py",
   "mimetype": "text/x-python",
   "name": "python",
   "nbconvert_exporter": "python",
   "pygments_lexer": "ipython3",
   "version": "3.9.7"
  },
  "orig_nbformat": 4
 },
 "nbformat": 4,
 "nbformat_minor": 2
}
