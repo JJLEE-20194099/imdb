{
 "cells": [
  {
   "cell_type": "code",
   "execution_count": 189,
   "metadata": {},
   "outputs": [],
   "source": [
    "import pandas as pd\n",
    "import numpy as np"
   ]
  },
  {
   "cell_type": "code",
   "execution_count": 190,
   "metadata": {},
   "outputs": [
    {
     "name": "stdout",
     "output_type": "stream",
     "text": [
      "<class 'pandas.core.frame.DataFrame'>\n",
      "RangeIndex: 127944 entries, 0 to 127943\n",
      "Data columns (total 7 columns):\n",
      " #   Column       Non-Null Count   Dtype \n",
      "---  ------       --------------   ----- \n",
      " 0   movie index  127944 non-null  int64 \n",
      " 1   movie id     127944 non-null  object\n",
      " 2   user id      127944 non-null  object\n",
      " 3   rating       127944 non-null  int64 \n",
      " 4   content      127944 non-null  object\n",
      " 5   date         127944 non-null  object\n",
      " 6   user index   127944 non-null  int64 \n",
      "dtypes: int64(3), object(4)\n",
      "memory usage: 6.8+ MB\n"
     ]
    }
   ],
   "source": [
    "rating = pd.read_csv('./data/datasets/rating/remaining_detail.csv', sep=',', encoding='latin-1')\n",
    "rating.info()"
   ]
  },
  {
   "cell_type": "code",
   "execution_count": 191,
   "metadata": {},
   "outputs": [
    {
     "data": {
      "text/plain": [
       "9385"
      ]
     },
     "execution_count": 191,
     "metadata": {},
     "output_type": "execute_result"
    }
   ],
   "source": [
    "movie_ids_in_rating = rating['movie id'].value_counts().index.tolist()\n",
    "len(movie_ids_in_rating)"
   ]
  },
  {
   "cell_type": "code",
   "execution_count": 192,
   "metadata": {},
   "outputs": [],
   "source": [
    "details = pd.read_csv('./data/datasets/movie/details_1.csv', sep=',', encoding='latin-1')"
   ]
  },
  {
   "cell_type": "code",
   "execution_count": 193,
   "metadata": {},
   "outputs": [
    {
     "data": {
      "text/html": [
       "<div>\n",
       "<style scoped>\n",
       "    .dataframe tbody tr th:only-of-type {\n",
       "        vertical-align: middle;\n",
       "    }\n",
       "\n",
       "    .dataframe tbody tr th {\n",
       "        vertical-align: top;\n",
       "    }\n",
       "\n",
       "    .dataframe thead th {\n",
       "        text-align: right;\n",
       "    }\n",
       "</style>\n",
       "<table border=\"1\" class=\"dataframe\">\n",
       "  <thead>\n",
       "    <tr style=\"text-align: right;\">\n",
       "      <th></th>\n",
       "      <th>movie id</th>\n",
       "      <th>title</th>\n",
       "      <th>series</th>\n",
       "      <th>release year</th>\n",
       "      <th>certification</th>\n",
       "      <th>duration</th>\n",
       "      <th>average rating</th>\n",
       "      <th>rating total</th>\n",
       "      <th>genre list</th>\n",
       "      <th>content</th>\n",
       "      <th>countries of origin</th>\n",
       "      <th>official sites</th>\n",
       "      <th>languages</th>\n",
       "      <th>production companies</th>\n",
       "      <th>budget</th>\n",
       "    </tr>\n",
       "  </thead>\n",
       "  <tbody>\n",
       "    <tr>\n",
       "      <th>0</th>\n",
       "      <td>tt0102813</td>\n",
       "      <td>Rover Dangerfield</td>\n",
       "      <td>NaN</td>\n",
       "      <td>1991</td>\n",
       "      <td>G</td>\n",
       "      <td>1h 14m</td>\n",
       "      <td>6.0</td>\n",
       "      <td>3K</td>\n",
       "      <td>Animation|Comedy|Family</td>\n",
       "      <td>A Vegas show dog gets ditched in the sticks an...</td>\n",
       "      <td>United States</td>\n",
       "      <td>NaN</td>\n",
       "      <td>English</td>\n",
       "      <td>NaN</td>\n",
       "      <td>NaN</td>\n",
       "    </tr>\n",
       "    <tr>\n",
       "      <th>1</th>\n",
       "      <td>tt1086761</td>\n",
       "      <td>Keeping Up with the Kardashians</td>\n",
       "      <td>TV Series</td>\n",
       "      <td>2006â2021</td>\n",
       "      <td>TV-14</td>\n",
       "      <td>44m</td>\n",
       "      <td>2.8</td>\n",
       "      <td>29K</td>\n",
       "      <td>Drama|Family|Reality-TV</td>\n",
       "      <td>A peek inside the exploits and privileged priv...</td>\n",
       "      <td>United States</td>\n",
       "      <td>Official sites|Official Facebook|Official Inst...</td>\n",
       "      <td>English|Spanish</td>\n",
       "      <td>NaN</td>\n",
       "      <td>NaN</td>\n",
       "    </tr>\n",
       "    <tr>\n",
       "      <th>2</th>\n",
       "      <td>tt0075686</td>\n",
       "      <td>Annie Hall</td>\n",
       "      <td>NaN</td>\n",
       "      <td>1977</td>\n",
       "      <td>PG</td>\n",
       "      <td>1h 33m</td>\n",
       "      <td>8.0</td>\n",
       "      <td>259K</td>\n",
       "      <td>Comedy|Romance</td>\n",
       "      <td>Alvy Singer, a divorced Jewish comedian, refle...</td>\n",
       "      <td>United States</td>\n",
       "      <td>NaN</td>\n",
       "      <td>English|German</td>\n",
       "      <td>NaN</td>\n",
       "      <td>$38,287,178</td>\n",
       "    </tr>\n",
       "    <tr>\n",
       "      <th>3</th>\n",
       "      <td>tt1402488</td>\n",
       "      <td>Happy Feet Two</td>\n",
       "      <td>NaN</td>\n",
       "      <td>2011</td>\n",
       "      <td>PG</td>\n",
       "      <td>1h 40m</td>\n",
       "      <td>5.9</td>\n",
       "      <td>44K</td>\n",
       "      <td>Animation|Adventure|Comedy</td>\n",
       "      <td>Mumble's son, Erik, is struggling to realize h...</td>\n",
       "      <td>Australia|United States|Antarctica|New Zealand</td>\n",
       "      <td>Official site</td>\n",
       "      <td>English</td>\n",
       "      <td>NaN</td>\n",
       "      <td>$159,197,038</td>\n",
       "    </tr>\n",
       "    <tr>\n",
       "      <th>4</th>\n",
       "      <td>tt15523186</td>\n",
       "      <td>Warning</td>\n",
       "      <td>NaN</td>\n",
       "      <td>2021</td>\n",
       "      <td>NaN</td>\n",
       "      <td>NaN</td>\n",
       "      <td>9.6</td>\n",
       "      <td>310</td>\n",
       "      <td>Action</td>\n",
       "      <td>Set in India, Action Movie Warning is about th...</td>\n",
       "      <td>India</td>\n",
       "      <td>NaN</td>\n",
       "      <td>Punjabi</td>\n",
       "      <td>NaN</td>\n",
       "      <td>NaN</td>\n",
       "    </tr>\n",
       "  </tbody>\n",
       "</table>\n",
       "</div>"
      ],
      "text/plain": [
       "     movie id                            title     series release year  \\\n",
       "0   tt0102813                Rover Dangerfield        NaN         1991   \n",
       "1   tt1086761  Keeping Up with the Kardashians  TV Series  2006â2021   \n",
       "2   tt0075686                       Annie Hall        NaN         1977   \n",
       "3   tt1402488                   Happy Feet Two        NaN         2011   \n",
       "4  tt15523186                          Warning        NaN         2021   \n",
       "\n",
       "  certification duration  average rating rating total  \\\n",
       "0             G   1h 14m             6.0           3K   \n",
       "1         TV-14      44m             2.8          29K   \n",
       "2            PG   1h 33m             8.0         259K   \n",
       "3            PG   1h 40m             5.9          44K   \n",
       "4           NaN      NaN             9.6          310   \n",
       "\n",
       "                   genre list  \\\n",
       "0     Animation|Comedy|Family   \n",
       "1     Drama|Family|Reality-TV   \n",
       "2              Comedy|Romance   \n",
       "3  Animation|Adventure|Comedy   \n",
       "4                      Action   \n",
       "\n",
       "                                             content  \\\n",
       "0  A Vegas show dog gets ditched in the sticks an...   \n",
       "1  A peek inside the exploits and privileged priv...   \n",
       "2  Alvy Singer, a divorced Jewish comedian, refle...   \n",
       "3  Mumble's son, Erik, is struggling to realize h...   \n",
       "4  Set in India, Action Movie Warning is about th...   \n",
       "\n",
       "                              countries of origin  \\\n",
       "0                                   United States   \n",
       "1                                   United States   \n",
       "2                                   United States   \n",
       "3  Australia|United States|Antarctica|New Zealand   \n",
       "4                                           India   \n",
       "\n",
       "                                      official sites        languages  \\\n",
       "0                                                NaN          English   \n",
       "1  Official sites|Official Facebook|Official Inst...  English|Spanish   \n",
       "2                                                NaN   English|German   \n",
       "3                                      Official site          English   \n",
       "4                                                NaN          Punjabi   \n",
       "\n",
       "   production companies        budget  \n",
       "0                   NaN           NaN  \n",
       "1                   NaN           NaN  \n",
       "2                   NaN   $38,287,178  \n",
       "3                   NaN  $159,197,038  \n",
       "4                   NaN           NaN  "
      ]
     },
     "execution_count": 193,
     "metadata": {},
     "output_type": "execute_result"
    }
   ],
   "source": [
    "details.head()"
   ]
  },
  {
   "cell_type": "code",
   "execution_count": 194,
   "metadata": {},
   "outputs": [
    {
     "name": "stdout",
     "output_type": "stream",
     "text": [
      "<class 'pandas.core.frame.DataFrame'>\n",
      "RangeIndex: 8699 entries, 0 to 8698\n",
      "Data columns (total 15 columns):\n",
      " #   Column                Non-Null Count  Dtype  \n",
      "---  ------                --------------  -----  \n",
      " 0   movie id              8699 non-null   object \n",
      " 1   title                 8699 non-null   object \n",
      " 2   series                2289 non-null   object \n",
      " 3   release year          8267 non-null   object \n",
      " 4   certification         8358 non-null   object \n",
      " 5   duration              8272 non-null   object \n",
      " 6   average rating        8547 non-null   float64\n",
      " 7   rating total          8547 non-null   object \n",
      " 8   genre list            8699 non-null   object \n",
      " 9   content               8699 non-null   object \n",
      " 10  countries of origin   8628 non-null   object \n",
      " 11  official sites        5638 non-null   object \n",
      " 12  languages             8582 non-null   object \n",
      " 13  production companies  0 non-null      float64\n",
      " 14  budget                5416 non-null   object \n",
      "dtypes: float64(2), object(13)\n",
      "memory usage: 1019.5+ KB\n"
     ]
    }
   ],
   "source": [
    "details.info()"
   ]
  },
  {
   "cell_type": "code",
   "execution_count": 195,
   "metadata": {},
   "outputs": [
    {
     "data": {
      "text/plain": [
       "8699"
      ]
     },
     "execution_count": 195,
     "metadata": {},
     "output_type": "execute_result"
    }
   ],
   "source": [
    "movie_ids_in_details = details['movie id'].value_counts().index.tolist()\n",
    "len(movie_ids_in_details)"
   ]
  },
  {
   "cell_type": "code",
   "execution_count": 196,
   "metadata": {},
   "outputs": [
    {
     "data": {
      "text/plain": [
       "['tt8510350', 'tt1190634', 'tt0088814', 'tt0077394', 'tt9894470']"
      ]
     },
     "execution_count": 196,
     "metadata": {},
     "output_type": "execute_result"
    }
   ],
   "source": [
    "movie_ids_in_rating[:5]"
   ]
  },
  {
   "cell_type": "code",
   "execution_count": 197,
   "metadata": {},
   "outputs": [
    {
     "data": {
      "text/plain": [
       "9385"
      ]
     },
     "execution_count": 197,
     "metadata": {},
     "output_type": "execute_result"
    }
   ],
   "source": [
    "len(movie_ids_in_rating)"
   ]
  },
  {
   "cell_type": "code",
   "execution_count": 198,
   "metadata": {},
   "outputs": [
    {
     "data": {
      "text/plain": [
       "8362"
      ]
     },
     "execution_count": 198,
     "metadata": {},
     "output_type": "execute_result"
    }
   ],
   "source": [
    "movie_id_finded_in_movie_detail = 0\n",
    "for movie_id in movie_ids_in_rating:\n",
    "    if len(details[details['movie id'] == movie_id]) > 0:\n",
    "        movie_id_finded_in_movie_detail += 1\n",
    "movie_id_finded_in_movie_detail\n"
   ]
  },
  {
   "cell_type": "code",
   "execution_count": 199,
   "metadata": {},
   "outputs": [
    {
     "name": "stdout",
     "output_type": "stream",
     "text": [
      "There are movie ids in rating data that haven't been found in movie detail data\n"
     ]
    }
   ],
   "source": [
    "if movie_id_finded_in_movie_detail != movie_ids_in_rating:\n",
    "    print(\"There are movie ids in rating data that haven't been found in movie detail data\")"
   ]
  },
  {
   "cell_type": "code",
   "execution_count": 200,
   "metadata": {},
   "outputs": [],
   "source": [
    "movie_id_file = open('./data/datasets/movie/remaining_ids.txt', 'r')\n",
    "movie_ids_in_ids_file= movie_id_file.readlines()\n",
    "movie_ids_in_ids_file = [movie_id.strip() for movie_id in movie_ids_in_ids_file]"
   ]
  },
  {
   "cell_type": "code",
   "execution_count": 201,
   "metadata": {},
   "outputs": [
    {
     "data": {
      "text/plain": [
       "9385"
      ]
     },
     "execution_count": 201,
     "metadata": {},
     "output_type": "execute_result"
    }
   ],
   "source": [
    "len(set(movie_ids_in_ids_file))"
   ]
  },
  {
   "cell_type": "code",
   "execution_count": 202,
   "metadata": {},
   "outputs": [
    {
     "data": {
      "text/plain": [
       "['tt0091605', 'tt0107050', 'tt0100260', 'tt2004420', 'tt0067333']"
      ]
     },
     "execution_count": 202,
     "metadata": {},
     "output_type": "execute_result"
    }
   ],
   "source": [
    "movie_ids_in_ids_file[:5]"
   ]
  },
  {
   "cell_type": "code",
   "execution_count": 203,
   "metadata": {},
   "outputs": [
    {
     "data": {
      "text/plain": [
       "9385"
      ]
     },
     "execution_count": 203,
     "metadata": {},
     "output_type": "execute_result"
    }
   ],
   "source": [
    "len(movie_ids_in_ids_file)"
   ]
  },
  {
   "cell_type": "code",
   "execution_count": 204,
   "metadata": {},
   "outputs": [
    {
     "data": {
      "text/plain": [
       "8362"
      ]
     },
     "execution_count": 204,
     "metadata": {},
     "output_type": "execute_result"
    }
   ],
   "source": [
    "movie_id_finded_in_ids_file = 0\n",
    "for movie_id in movie_ids_in_ids_file:\n",
    "    if len(details[details['movie id'] == movie_id]) > 0:\n",
    "        movie_id_finded_in_ids_file += 1\n",
    "movie_id_finded_in_ids_file\n"
   ]
  },
  {
   "cell_type": "code",
   "execution_count": 205,
   "metadata": {},
   "outputs": [
    {
     "name": "stdout",
     "output_type": "stream",
     "text": [
      "There are movie ids in rating data that haven't been found in ids data\n"
     ]
    }
   ],
   "source": [
    "if movie_id_finded_in_ids_file != movie_ids_in_rating:\n",
    "    print(\"There are movie ids in rating data that haven't been found in ids data\")"
   ]
  },
  {
   "cell_type": "code",
   "execution_count": 206,
   "metadata": {},
   "outputs": [],
   "source": [
    "movie_ids_in_ids_file_set = set(movie_ids_in_ids_file)\n",
    "movie_ids_in_rating_set = set(movie_ids_in_rating)"
   ]
  },
  {
   "cell_type": "code",
   "execution_count": 207,
   "metadata": {},
   "outputs": [
    {
     "name": "stdout",
     "output_type": "stream",
     "text": [
      "set()\n",
      "set()\n"
     ]
    }
   ],
   "source": [
    "print(movie_ids_in_ids_file_set.difference(movie_ids_in_rating_set))\n",
    "print(movie_ids_in_rating_set.difference(movie_ids_in_ids_file_set))"
   ]
  },
  {
   "cell_type": "code",
   "execution_count": 208,
   "metadata": {},
   "outputs": [
    {
     "name": "stdout",
     "output_type": "stream",
     "text": [
      "All movie ids in rating were founded in ids file\n"
     ]
    }
   ],
   "source": [
    "if len(movie_ids_in_ids_file_set.difference(movie_ids_in_rating_set)) == 0 and len(movie_ids_in_rating_set.difference(movie_ids_in_ids_file_set)) == 0:\n",
    "    print('All movie ids in rating were founded in ids file')\n"
   ]
  },
  {
   "cell_type": "code",
   "execution_count": 209,
   "metadata": {},
   "outputs": [
    {
     "name": "stdout",
     "output_type": "stream",
     "text": [
      "I have to crawl movie detail\n"
     ]
    }
   ],
   "source": [
    "print('I have to crawl movie detail')"
   ]
  },
  {
   "cell_type": "code",
   "execution_count": 210,
   "metadata": {},
   "outputs": [],
   "source": [
    "import os\n",
    "from src.text_csv_utils import write_csv_file\n",
    "from src.url_functions import get_detail_movie_by_movie_id\n",
    "def crawl_movie_details():\n",
    "    movie_id_file = open('./data/datasets/movie/remaining_ids.txt', 'r')\n",
    "    movie_ids_in_ids_file= movie_id_file.readlines()\n",
    "    movie_ids_in_ids_file = [movie_id.strip() for movie_id in movie_ids_in_ids_file]\n",
    "    movie_detail_path = os.path.join('data/datasets/movie', 'details.csv')\n",
    "    \n",
    "    detail_title = [\"movie id\", \"title\", \"series\", \"release year\", \"certification\", \"duration\", \"average rating\", \"rating total\", \"genre list\", \"content\", \"countries of origin\", \"official sites\", \"languages\", \"production companies\", \"budget\"]\n",
    "    write_csv_file([detail_title], movie_detail_path, 'w')\n",
    "\n",
    "    for movie_id in movie_ids_in_ids_file:\n",
    "        write_csv_file([get_detail_movie_by_movie_id(movie_id)], movie_detail_path, 'a')\n"
   ]
  },
  {
   "cell_type": "code",
   "execution_count": 211,
   "metadata": {},
   "outputs": [],
   "source": [
    "#crawl_movie_details()"
   ]
  },
  {
   "cell_type": "code",
   "execution_count": 212,
   "metadata": {},
   "outputs": [
    {
     "data": {
      "text/html": [
       "<div>\n",
       "<style scoped>\n",
       "    .dataframe tbody tr th:only-of-type {\n",
       "        vertical-align: middle;\n",
       "    }\n",
       "\n",
       "    .dataframe tbody tr th {\n",
       "        vertical-align: top;\n",
       "    }\n",
       "\n",
       "    .dataframe thead th {\n",
       "        text-align: right;\n",
       "    }\n",
       "</style>\n",
       "<table border=\"1\" class=\"dataframe\">\n",
       "  <thead>\n",
       "    <tr style=\"text-align: right;\">\n",
       "      <th></th>\n",
       "      <th>movie index</th>\n",
       "      <th>movie id</th>\n",
       "      <th>user id</th>\n",
       "      <th>rating</th>\n",
       "      <th>content</th>\n",
       "      <th>date</th>\n",
       "      <th>user index</th>\n",
       "    </tr>\n",
       "  </thead>\n",
       "  <tbody>\n",
       "    <tr>\n",
       "      <th>0</th>\n",
       "      <td>0</td>\n",
       "      <td>tt8510350</td>\n",
       "      <td>ur5876717</td>\n",
       "      <td>4</td>\n",
       "      <td>Not the running time in any sense, but this se...</td>\n",
       "      <td>31 October 2019</td>\n",
       "      <td>1412</td>\n",
       "    </tr>\n",
       "    <tr>\n",
       "      <th>1</th>\n",
       "      <td>0</td>\n",
       "      <td>tt8510350</td>\n",
       "      <td>ur22654354</td>\n",
       "      <td>2</td>\n",
       "      <td>I wasn't really sure what I was getting myself...</td>\n",
       "      <td>9 September 2019</td>\n",
       "      <td>1401</td>\n",
       "    </tr>\n",
       "    <tr>\n",
       "      <th>2</th>\n",
       "      <td>0</td>\n",
       "      <td>tt8510350</td>\n",
       "      <td>ur12844960</td>\n",
       "      <td>4</td>\n",
       "      <td>I didn't know what to expect of this flick bec...</td>\n",
       "      <td>2 May 2020</td>\n",
       "      <td>1347</td>\n",
       "    </tr>\n",
       "    <tr>\n",
       "      <th>3</th>\n",
       "      <td>0</td>\n",
       "      <td>tt8510350</td>\n",
       "      <td>ur0806494</td>\n",
       "      <td>4</td>\n",
       "      <td>2019 Oak Cliff Film Festival\\nGreetings again ...</td>\n",
       "      <td>11 June 2019</td>\n",
       "      <td>1368</td>\n",
       "    </tr>\n",
       "    <tr>\n",
       "      <th>4</th>\n",
       "      <td>0</td>\n",
       "      <td>tt8510350</td>\n",
       "      <td>ur77881167</td>\n",
       "      <td>3</td>\n",
       "      <td>Sam (Hayley Griffith) delivers pizza and compo...</td>\n",
       "      <td>31 October 2019</td>\n",
       "      <td>1405</td>\n",
       "    </tr>\n",
       "  </tbody>\n",
       "</table>\n",
       "</div>"
      ],
      "text/plain": [
       "   movie index   movie id     user id  rating  \\\n",
       "0            0  tt8510350   ur5876717       4   \n",
       "1            0  tt8510350  ur22654354       2   \n",
       "2            0  tt8510350  ur12844960       4   \n",
       "3            0  tt8510350   ur0806494       4   \n",
       "4            0  tt8510350  ur77881167       3   \n",
       "\n",
       "                                             content              date  \\\n",
       "0  Not the running time in any sense, but this se...   31 October 2019   \n",
       "1  I wasn't really sure what I was getting myself...  9 September 2019   \n",
       "2  I didn't know what to expect of this flick bec...        2 May 2020   \n",
       "3  2019 Oak Cliff Film Festival\\nGreetings again ...      11 June 2019   \n",
       "4  Sam (Hayley Griffith) delivers pizza and compo...   31 October 2019   \n",
       "\n",
       "   user index  \n",
       "0        1412  \n",
       "1        1401  \n",
       "2        1347  \n",
       "3        1368  \n",
       "4        1405  "
      ]
     },
     "execution_count": 212,
     "metadata": {},
     "output_type": "execute_result"
    }
   ],
   "source": [
    "rating.head()"
   ]
  },
  {
   "cell_type": "code",
   "execution_count": 213,
   "metadata": {},
   "outputs": [
    {
     "name": "stdout",
     "output_type": "stream",
     "text": [
      "<class 'pandas.core.frame.DataFrame'>\n",
      "RangeIndex: 127944 entries, 0 to 127943\n",
      "Data columns (total 7 columns):\n",
      " #   Column       Non-Null Count   Dtype \n",
      "---  ------       --------------   ----- \n",
      " 0   movie index  127944 non-null  int64 \n",
      " 1   movie id     127944 non-null  object\n",
      " 2   user id      127944 non-null  object\n",
      " 3   rating       127944 non-null  int64 \n",
      " 4   content      127944 non-null  object\n",
      " 5   date         127944 non-null  object\n",
      " 6   user index   127944 non-null  int64 \n",
      "dtypes: int64(3), object(4)\n",
      "memory usage: 6.8+ MB\n"
     ]
    }
   ],
   "source": [
    "rating.info()"
   ]
  },
  {
   "cell_type": "code",
   "execution_count": 214,
   "metadata": {},
   "outputs": [
    {
     "data": {
      "text/plain": [
       "9385"
      ]
     },
     "execution_count": 214,
     "metadata": {},
     "output_type": "execute_result"
    }
   ],
   "source": [
    "len(movie_ids_in_ids_file)"
   ]
  },
  {
   "cell_type": "code",
   "execution_count": 215,
   "metadata": {},
   "outputs": [
    {
     "data": {
      "text/plain": [
       "8699"
      ]
     },
     "execution_count": 215,
     "metadata": {},
     "output_type": "execute_result"
    }
   ],
   "source": [
    "len(movie_ids_in_details)"
   ]
  },
  {
   "cell_type": "code",
   "execution_count": 216,
   "metadata": {},
   "outputs": [],
   "source": [
    "movie_ids_df = pd.DataFrame(columns=['movie id'])\n",
    "movie_ids_df['movie id'] = movie_ids_in_details"
   ]
  },
  {
   "cell_type": "code",
   "execution_count": 217,
   "metadata": {},
   "outputs": [],
   "source": [
    "merge_rating_and_movie_ids_df = pd.merge(rating, movie_ids_df, how='inner', on='movie id')"
   ]
  },
  {
   "cell_type": "code",
   "execution_count": 218,
   "metadata": {},
   "outputs": [
    {
     "data": {
      "text/html": [
       "<div>\n",
       "<style scoped>\n",
       "    .dataframe tbody tr th:only-of-type {\n",
       "        vertical-align: middle;\n",
       "    }\n",
       "\n",
       "    .dataframe tbody tr th {\n",
       "        vertical-align: top;\n",
       "    }\n",
       "\n",
       "    .dataframe thead th {\n",
       "        text-align: right;\n",
       "    }\n",
       "</style>\n",
       "<table border=\"1\" class=\"dataframe\">\n",
       "  <thead>\n",
       "    <tr style=\"text-align: right;\">\n",
       "      <th></th>\n",
       "      <th>movie index</th>\n",
       "      <th>movie id</th>\n",
       "      <th>user id</th>\n",
       "      <th>rating</th>\n",
       "      <th>content</th>\n",
       "      <th>date</th>\n",
       "      <th>user index</th>\n",
       "    </tr>\n",
       "  </thead>\n",
       "  <tbody>\n",
       "    <tr>\n",
       "      <th>0</th>\n",
       "      <td>0</td>\n",
       "      <td>tt8510350</td>\n",
       "      <td>ur5876717</td>\n",
       "      <td>4</td>\n",
       "      <td>Not the running time in any sense, but this se...</td>\n",
       "      <td>31 October 2019</td>\n",
       "      <td>1412</td>\n",
       "    </tr>\n",
       "    <tr>\n",
       "      <th>1</th>\n",
       "      <td>0</td>\n",
       "      <td>tt8510350</td>\n",
       "      <td>ur22654354</td>\n",
       "      <td>2</td>\n",
       "      <td>I wasn't really sure what I was getting myself...</td>\n",
       "      <td>9 September 2019</td>\n",
       "      <td>1401</td>\n",
       "    </tr>\n",
       "    <tr>\n",
       "      <th>2</th>\n",
       "      <td>0</td>\n",
       "      <td>tt8510350</td>\n",
       "      <td>ur12844960</td>\n",
       "      <td>4</td>\n",
       "      <td>I didn't know what to expect of this flick bec...</td>\n",
       "      <td>2 May 2020</td>\n",
       "      <td>1347</td>\n",
       "    </tr>\n",
       "    <tr>\n",
       "      <th>3</th>\n",
       "      <td>0</td>\n",
       "      <td>tt8510350</td>\n",
       "      <td>ur0806494</td>\n",
       "      <td>4</td>\n",
       "      <td>2019 Oak Cliff Film Festival\\nGreetings again ...</td>\n",
       "      <td>11 June 2019</td>\n",
       "      <td>1368</td>\n",
       "    </tr>\n",
       "    <tr>\n",
       "      <th>4</th>\n",
       "      <td>0</td>\n",
       "      <td>tt8510350</td>\n",
       "      <td>ur77881167</td>\n",
       "      <td>3</td>\n",
       "      <td>Sam (Hayley Griffith) delivers pizza and compo...</td>\n",
       "      <td>31 October 2019</td>\n",
       "      <td>1405</td>\n",
       "    </tr>\n",
       "  </tbody>\n",
       "</table>\n",
       "</div>"
      ],
      "text/plain": [
       "   movie index   movie id     user id  rating  \\\n",
       "0            0  tt8510350   ur5876717       4   \n",
       "1            0  tt8510350  ur22654354       2   \n",
       "2            0  tt8510350  ur12844960       4   \n",
       "3            0  tt8510350   ur0806494       4   \n",
       "4            0  tt8510350  ur77881167       3   \n",
       "\n",
       "                                             content              date  \\\n",
       "0  Not the running time in any sense, but this se...   31 October 2019   \n",
       "1  I wasn't really sure what I was getting myself...  9 September 2019   \n",
       "2  I didn't know what to expect of this flick bec...        2 May 2020   \n",
       "3  2019 Oak Cliff Film Festival\\nGreetings again ...      11 June 2019   \n",
       "4  Sam (Hayley Griffith) delivers pizza and compo...   31 October 2019   \n",
       "\n",
       "   user index  \n",
       "0        1412  \n",
       "1        1401  \n",
       "2        1347  \n",
       "3        1368  \n",
       "4        1405  "
      ]
     },
     "execution_count": 218,
     "metadata": {},
     "output_type": "execute_result"
    }
   ],
   "source": [
    "merge_rating_and_movie_ids_df.head()"
   ]
  },
  {
   "cell_type": "code",
   "execution_count": 219,
   "metadata": {},
   "outputs": [
    {
     "name": "stdout",
     "output_type": "stream",
     "text": [
      "<class 'pandas.core.frame.DataFrame'>\n",
      "Int64Index: 118390 entries, 0 to 118389\n",
      "Data columns (total 7 columns):\n",
      " #   Column       Non-Null Count   Dtype \n",
      "---  ------       --------------   ----- \n",
      " 0   movie index  118390 non-null  int64 \n",
      " 1   movie id     118390 non-null  object\n",
      " 2   user id      118390 non-null  object\n",
      " 3   rating       118390 non-null  int64 \n",
      " 4   content      118390 non-null  object\n",
      " 5   date         118390 non-null  object\n",
      " 6   user index   118390 non-null  int64 \n",
      "dtypes: int64(3), object(4)\n",
      "memory usage: 7.2+ MB\n"
     ]
    }
   ],
   "source": [
    "merge_rating_and_movie_ids_df.info()"
   ]
  },
  {
   "cell_type": "code",
   "execution_count": 220,
   "metadata": {},
   "outputs": [
    {
     "data": {
      "text/plain": [
       "8362"
      ]
     },
     "execution_count": 220,
     "metadata": {},
     "output_type": "execute_result"
    }
   ],
   "source": [
    "len(merge_rating_and_movie_ids_df['movie id'].value_counts().index.tolist())"
   ]
  },
  {
   "cell_type": "code",
   "execution_count": null,
   "metadata": {},
   "outputs": [],
   "source": []
  },
  {
   "cell_type": "code",
   "execution_count": 221,
   "metadata": {},
   "outputs": [],
   "source": [
    "cleaned_movie_ids = merge_rating_and_movie_ids_df['movie id'].value_counts().index.tolist()"
   ]
  },
  {
   "cell_type": "code",
   "execution_count": 222,
   "metadata": {},
   "outputs": [],
   "source": [
    "cleaned_movie_index = merge_rating_and_movie_ids_df['movie index'].value_counts().index.tolist()"
   ]
  },
  {
   "cell_type": "code",
   "execution_count": 223,
   "metadata": {},
   "outputs": [
    {
     "data": {
      "text/plain": [
       "[0, 174, 159, 161, 162]"
      ]
     },
     "execution_count": 223,
     "metadata": {},
     "output_type": "execute_result"
    }
   ],
   "source": [
    "cleaned_movie_index[:5]"
   ]
  },
  {
   "cell_type": "code",
   "execution_count": 224,
   "metadata": {},
   "outputs": [],
   "source": [
    "cleaned_movie_ids_df = pd.DataFrame(columns=['movie id'])\n",
    "cleaned_movie_ids_df['movie id'] = cleaned_movie_ids\n"
   ]
  },
  {
   "cell_type": "code",
   "execution_count": 225,
   "metadata": {},
   "outputs": [
    {
     "data": {
      "text/html": [
       "<div>\n",
       "<style scoped>\n",
       "    .dataframe tbody tr th:only-of-type {\n",
       "        vertical-align: middle;\n",
       "    }\n",
       "\n",
       "    .dataframe tbody tr th {\n",
       "        vertical-align: top;\n",
       "    }\n",
       "\n",
       "    .dataframe thead th {\n",
       "        text-align: right;\n",
       "    }\n",
       "</style>\n",
       "<table border=\"1\" class=\"dataframe\">\n",
       "  <thead>\n",
       "    <tr style=\"text-align: right;\">\n",
       "      <th></th>\n",
       "      <th>movie id</th>\n",
       "    </tr>\n",
       "  </thead>\n",
       "  <tbody>\n",
       "    <tr>\n",
       "      <th>0</th>\n",
       "      <td>tt8510350</td>\n",
       "    </tr>\n",
       "    <tr>\n",
       "      <th>1</th>\n",
       "      <td>tt0083630</td>\n",
       "    </tr>\n",
       "    <tr>\n",
       "      <th>2</th>\n",
       "      <td>tt0119707</td>\n",
       "    </tr>\n",
       "    <tr>\n",
       "      <th>3</th>\n",
       "      <td>tt5607976</td>\n",
       "    </tr>\n",
       "    <tr>\n",
       "      <th>4</th>\n",
       "      <td>tt0088814</td>\n",
       "    </tr>\n",
       "  </tbody>\n",
       "</table>\n",
       "</div>"
      ],
      "text/plain": [
       "    movie id\n",
       "0  tt8510350\n",
       "1  tt0083630\n",
       "2  tt0119707\n",
       "3  tt5607976\n",
       "4  tt0088814"
      ]
     },
     "execution_count": 225,
     "metadata": {},
     "output_type": "execute_result"
    }
   ],
   "source": [
    "cleaned_movie_ids_df.head()"
   ]
  },
  {
   "cell_type": "code",
   "execution_count": 226,
   "metadata": {},
   "outputs": [],
   "source": [
    "merge_details_cleaned_movied_ids = pd.merge(cleaned_movie_ids_df, details, how='inner', on='movie id')"
   ]
  },
  {
   "cell_type": "code",
   "execution_count": 227,
   "metadata": {},
   "outputs": [
    {
     "data": {
      "text/html": [
       "<div>\n",
       "<style scoped>\n",
       "    .dataframe tbody tr th:only-of-type {\n",
       "        vertical-align: middle;\n",
       "    }\n",
       "\n",
       "    .dataframe tbody tr th {\n",
       "        vertical-align: top;\n",
       "    }\n",
       "\n",
       "    .dataframe thead th {\n",
       "        text-align: right;\n",
       "    }\n",
       "</style>\n",
       "<table border=\"1\" class=\"dataframe\">\n",
       "  <thead>\n",
       "    <tr style=\"text-align: right;\">\n",
       "      <th></th>\n",
       "      <th>movie id</th>\n",
       "      <th>title</th>\n",
       "      <th>series</th>\n",
       "      <th>release year</th>\n",
       "      <th>certification</th>\n",
       "      <th>duration</th>\n",
       "      <th>average rating</th>\n",
       "      <th>rating total</th>\n",
       "      <th>genre list</th>\n",
       "      <th>content</th>\n",
       "      <th>countries of origin</th>\n",
       "      <th>official sites</th>\n",
       "      <th>languages</th>\n",
       "      <th>production companies</th>\n",
       "      <th>budget</th>\n",
       "    </tr>\n",
       "  </thead>\n",
       "  <tbody>\n",
       "    <tr>\n",
       "      <th>0</th>\n",
       "      <td>tt8510350</td>\n",
       "      <td>Satanic Panic</td>\n",
       "      <td>NaN</td>\n",
       "      <td>2019</td>\n",
       "      <td>Not Rated</td>\n",
       "      <td>1h 25m</td>\n",
       "      <td>5.6</td>\n",
       "      <td>5.3K</td>\n",
       "      <td>Comedy|Horror</td>\n",
       "      <td>A pizza delivery girl at the end of her financ...</td>\n",
       "      <td>United States</td>\n",
       "      <td>NaN</td>\n",
       "      <td>English</td>\n",
       "      <td>NaN</td>\n",
       "      <td>NaN</td>\n",
       "    </tr>\n",
       "    <tr>\n",
       "      <th>1</th>\n",
       "      <td>tt0083630</td>\n",
       "      <td>The Beastmaster</td>\n",
       "      <td>NaN</td>\n",
       "      <td>1982</td>\n",
       "      <td>PG</td>\n",
       "      <td>1h 58m</td>\n",
       "      <td>6.2</td>\n",
       "      <td>22K</td>\n",
       "      <td>Action|Adventure|Fantasy</td>\n",
       "      <td>A sword-and-sorcery fantasy about a young man'...</td>\n",
       "      <td>United States|West Germany</td>\n",
       "      <td>NaN</td>\n",
       "      <td>English</td>\n",
       "      <td>NaN</td>\n",
       "      <td>$14,056,528</td>\n",
       "    </tr>\n",
       "    <tr>\n",
       "      <th>2</th>\n",
       "      <td>tt0119707</td>\n",
       "      <td>Mortal Kombat: Annihilation</td>\n",
       "      <td>NaN</td>\n",
       "      <td>1997</td>\n",
       "      <td>PG-13</td>\n",
       "      <td>1h 35m</td>\n",
       "      <td>3.7</td>\n",
       "      <td>53K</td>\n",
       "      <td>Action|Adventure|Fantasy</td>\n",
       "      <td>A group of martial arts warriors have only six...</td>\n",
       "      <td>United States</td>\n",
       "      <td>New Line</td>\n",
       "      <td>English</td>\n",
       "      <td>NaN</td>\n",
       "      <td>$51,376,861</td>\n",
       "    </tr>\n",
       "    <tr>\n",
       "      <th>3</th>\n",
       "      <td>tt5607976</td>\n",
       "      <td>His Dark Materials</td>\n",
       "      <td>TV Series</td>\n",
       "      <td>2019â</td>\n",
       "      <td>TV-14</td>\n",
       "      <td>1h</td>\n",
       "      <td>7.9</td>\n",
       "      <td>59K</td>\n",
       "      <td>Adventure|Drama|Family</td>\n",
       "      <td>A young girl is destined to liberate her world...</td>\n",
       "      <td>United Kingdom|United States</td>\n",
       "      <td>Official sites|Official Bad Wolf Production We...</td>\n",
       "      <td>English</td>\n",
       "      <td>NaN</td>\n",
       "      <td>NaN</td>\n",
       "    </tr>\n",
       "    <tr>\n",
       "      <th>4</th>\n",
       "      <td>tt0088814</td>\n",
       "      <td>The Black Cauldron</td>\n",
       "      <td>NaN</td>\n",
       "      <td>1985</td>\n",
       "      <td>PG</td>\n",
       "      <td>1h 20m</td>\n",
       "      <td>6.4</td>\n",
       "      <td>34K</td>\n",
       "      <td>Animation|Action|Adventure</td>\n",
       "      <td>A young boy and a group of misfit friends emba...</td>\n",
       "      <td>United States|United Kingdom</td>\n",
       "      <td>Official site</td>\n",
       "      <td>English|Portuguese</td>\n",
       "      <td>NaN</td>\n",
       "      <td>$21,288,692</td>\n",
       "    </tr>\n",
       "  </tbody>\n",
       "</table>\n",
       "</div>"
      ],
      "text/plain": [
       "    movie id                        title     series release year  \\\n",
       "0  tt8510350                Satanic Panic        NaN         2019   \n",
       "1  tt0083630              The Beastmaster        NaN         1982   \n",
       "2  tt0119707  Mortal Kombat: Annihilation        NaN         1997   \n",
       "3  tt5607976           His Dark Materials  TV Series     2019â    \n",
       "4  tt0088814           The Black Cauldron        NaN         1985   \n",
       "\n",
       "  certification duration  average rating rating total  \\\n",
       "0     Not Rated   1h 25m             5.6         5.3K   \n",
       "1            PG   1h 58m             6.2          22K   \n",
       "2         PG-13   1h 35m             3.7          53K   \n",
       "3         TV-14       1h             7.9          59K   \n",
       "4            PG   1h 20m             6.4          34K   \n",
       "\n",
       "                   genre list  \\\n",
       "0               Comedy|Horror   \n",
       "1    Action|Adventure|Fantasy   \n",
       "2    Action|Adventure|Fantasy   \n",
       "3      Adventure|Drama|Family   \n",
       "4  Animation|Action|Adventure   \n",
       "\n",
       "                                             content  \\\n",
       "0  A pizza delivery girl at the end of her financ...   \n",
       "1  A sword-and-sorcery fantasy about a young man'...   \n",
       "2  A group of martial arts warriors have only six...   \n",
       "3  A young girl is destined to liberate her world...   \n",
       "4  A young boy and a group of misfit friends emba...   \n",
       "\n",
       "            countries of origin  \\\n",
       "0                 United States   \n",
       "1    United States|West Germany   \n",
       "2                 United States   \n",
       "3  United Kingdom|United States   \n",
       "4  United States|United Kingdom   \n",
       "\n",
       "                                      official sites           languages  \\\n",
       "0                                                NaN             English   \n",
       "1                                                NaN             English   \n",
       "2                                           New Line             English   \n",
       "3  Official sites|Official Bad Wolf Production We...             English   \n",
       "4                                      Official site  English|Portuguese   \n",
       "\n",
       "   production companies       budget  \n",
       "0                   NaN          NaN  \n",
       "1                   NaN  $14,056,528  \n",
       "2                   NaN  $51,376,861  \n",
       "3                   NaN          NaN  \n",
       "4                   NaN  $21,288,692  "
      ]
     },
     "execution_count": 227,
     "metadata": {},
     "output_type": "execute_result"
    }
   ],
   "source": [
    "merge_details_cleaned_movied_ids.head()"
   ]
  },
  {
   "cell_type": "code",
   "execution_count": 228,
   "metadata": {},
   "outputs": [
    {
     "name": "stdout",
     "output_type": "stream",
     "text": [
      "<class 'pandas.core.frame.DataFrame'>\n",
      "Int64Index: 8362 entries, 0 to 8361\n",
      "Data columns (total 15 columns):\n",
      " #   Column                Non-Null Count  Dtype  \n",
      "---  ------                --------------  -----  \n",
      " 0   movie id              8362 non-null   object \n",
      " 1   title                 8362 non-null   object \n",
      " 2   series                2246 non-null   object \n",
      " 3   release year          8044 non-null   object \n",
      " 4   certification         8153 non-null   object \n",
      " 5   duration              8133 non-null   object \n",
      " 6   average rating        8361 non-null   float64\n",
      " 7   rating total          8361 non-null   object \n",
      " 8   genre list            8362 non-null   object \n",
      " 9   content               8362 non-null   object \n",
      " 10  countries of origin   8291 non-null   object \n",
      " 11  official sites        5465 non-null   object \n",
      " 12  languages             8252 non-null   object \n",
      " 13  production companies  0 non-null      float64\n",
      " 14  budget                5364 non-null   object \n",
      "dtypes: float64(2), object(13)\n",
      "memory usage: 1.0+ MB\n"
     ]
    }
   ],
   "source": [
    "merge_details_cleaned_movied_ids.info()"
   ]
  },
  {
   "cell_type": "code",
   "execution_count": 229,
   "metadata": {},
   "outputs": [
    {
     "data": {
      "text/plain": [
       "{'Action',\n",
       " 'Adventure',\n",
       " 'Animation',\n",
       " 'Biography',\n",
       " 'Comedy',\n",
       " 'Crime',\n",
       " 'Documentary',\n",
       " 'Drama',\n",
       " 'Family',\n",
       " 'Fantasy',\n",
       " 'Film-Noir',\n",
       " 'Game-Show',\n",
       " 'History',\n",
       " 'Horror',\n",
       " 'Music',\n",
       " 'Musical',\n",
       " 'Mystery',\n",
       " 'News',\n",
       " 'Reality-TV',\n",
       " 'Romance',\n",
       " 'Sci-Fi',\n",
       " 'Short',\n",
       " 'Sport',\n",
       " 'Talk-Show',\n",
       " 'Thriller',\n",
       " 'War',\n",
       " 'Western'}"
      ]
     },
     "execution_count": 229,
     "metadata": {},
     "output_type": "execute_result"
    }
   ],
   "source": [
    "genres = set()\n",
    "group_genres = merge_details_cleaned_movied_ids ['genre list'].value_counts().index.tolist()\n",
    "for group_genre in group_genres:\n",
    "    group_genre_list = group_genre.split(\"|\")\n",
    "    for g in group_genre_list:\n",
    "        genres.add(g)\n",
    "genres"
   ]
  },
  {
   "cell_type": "code",
   "execution_count": 230,
   "metadata": {},
   "outputs": [
    {
     "data": {
      "text/plain": [
       "27"
      ]
     },
     "execution_count": 230,
     "metadata": {},
     "output_type": "execute_result"
    }
   ],
   "source": [
    "len(genres)"
   ]
  },
  {
   "cell_type": "code",
   "execution_count": 231,
   "metadata": {},
   "outputs": [],
   "source": [
    "ml_details = merge_details_cleaned_movied_ids"
   ]
  },
  {
   "cell_type": "code",
   "execution_count": 232,
   "metadata": {},
   "outputs": [],
   "source": [
    "for genre in genres:\n",
    "    ml_details[genre] = np.zeros(len(ml_details))"
   ]
  },
  {
   "cell_type": "code",
   "execution_count": 233,
   "metadata": {},
   "outputs": [],
   "source": [
    "for i in range(len(ml_details)):\n",
    "    group_genre_list = ml_details.iloc[i]['genre list']\n",
    "    group_genre_list = group_genre_list.split(\"|\")\n",
    "    for g in group_genre_list:\n",
    "        ml_details.at[i, g] = int(1)"
   ]
  },
  {
   "cell_type": "code",
   "execution_count": 234,
   "metadata": {},
   "outputs": [
    {
     "data": {
      "text/html": [
       "<div>\n",
       "<style scoped>\n",
       "    .dataframe tbody tr th:only-of-type {\n",
       "        vertical-align: middle;\n",
       "    }\n",
       "\n",
       "    .dataframe tbody tr th {\n",
       "        vertical-align: top;\n",
       "    }\n",
       "\n",
       "    .dataframe thead th {\n",
       "        text-align: right;\n",
       "    }\n",
       "</style>\n",
       "<table border=\"1\" class=\"dataframe\">\n",
       "  <thead>\n",
       "    <tr style=\"text-align: right;\">\n",
       "      <th></th>\n",
       "      <th>movie id</th>\n",
       "      <th>title</th>\n",
       "      <th>series</th>\n",
       "      <th>release year</th>\n",
       "      <th>certification</th>\n",
       "      <th>duration</th>\n",
       "      <th>average rating</th>\n",
       "      <th>rating total</th>\n",
       "      <th>genre list</th>\n",
       "      <th>content</th>\n",
       "      <th>...</th>\n",
       "      <th>Western</th>\n",
       "      <th>Romance</th>\n",
       "      <th>Drama</th>\n",
       "      <th>Reality-TV</th>\n",
       "      <th>Crime</th>\n",
       "      <th>Comedy</th>\n",
       "      <th>Adventure</th>\n",
       "      <th>News</th>\n",
       "      <th>War</th>\n",
       "      <th>Action</th>\n",
       "    </tr>\n",
       "  </thead>\n",
       "  <tbody>\n",
       "    <tr>\n",
       "      <th>0</th>\n",
       "      <td>tt8510350</td>\n",
       "      <td>Satanic Panic</td>\n",
       "      <td>NaN</td>\n",
       "      <td>2019</td>\n",
       "      <td>Not Rated</td>\n",
       "      <td>1h 25m</td>\n",
       "      <td>5.6</td>\n",
       "      <td>5.3K</td>\n",
       "      <td>Comedy|Horror</td>\n",
       "      <td>A pizza delivery girl at the end of her financ...</td>\n",
       "      <td>...</td>\n",
       "      <td>0.0</td>\n",
       "      <td>0.0</td>\n",
       "      <td>0.0</td>\n",
       "      <td>0.0</td>\n",
       "      <td>0.0</td>\n",
       "      <td>1.0</td>\n",
       "      <td>0.0</td>\n",
       "      <td>0.0</td>\n",
       "      <td>0.0</td>\n",
       "      <td>0.0</td>\n",
       "    </tr>\n",
       "    <tr>\n",
       "      <th>1</th>\n",
       "      <td>tt0083630</td>\n",
       "      <td>The Beastmaster</td>\n",
       "      <td>NaN</td>\n",
       "      <td>1982</td>\n",
       "      <td>PG</td>\n",
       "      <td>1h 58m</td>\n",
       "      <td>6.2</td>\n",
       "      <td>22K</td>\n",
       "      <td>Action|Adventure|Fantasy</td>\n",
       "      <td>A sword-and-sorcery fantasy about a young man'...</td>\n",
       "      <td>...</td>\n",
       "      <td>0.0</td>\n",
       "      <td>0.0</td>\n",
       "      <td>0.0</td>\n",
       "      <td>0.0</td>\n",
       "      <td>0.0</td>\n",
       "      <td>0.0</td>\n",
       "      <td>1.0</td>\n",
       "      <td>0.0</td>\n",
       "      <td>0.0</td>\n",
       "      <td>1.0</td>\n",
       "    </tr>\n",
       "    <tr>\n",
       "      <th>2</th>\n",
       "      <td>tt0119707</td>\n",
       "      <td>Mortal Kombat: Annihilation</td>\n",
       "      <td>NaN</td>\n",
       "      <td>1997</td>\n",
       "      <td>PG-13</td>\n",
       "      <td>1h 35m</td>\n",
       "      <td>3.7</td>\n",
       "      <td>53K</td>\n",
       "      <td>Action|Adventure|Fantasy</td>\n",
       "      <td>A group of martial arts warriors have only six...</td>\n",
       "      <td>...</td>\n",
       "      <td>0.0</td>\n",
       "      <td>0.0</td>\n",
       "      <td>0.0</td>\n",
       "      <td>0.0</td>\n",
       "      <td>0.0</td>\n",
       "      <td>0.0</td>\n",
       "      <td>1.0</td>\n",
       "      <td>0.0</td>\n",
       "      <td>0.0</td>\n",
       "      <td>1.0</td>\n",
       "    </tr>\n",
       "    <tr>\n",
       "      <th>3</th>\n",
       "      <td>tt5607976</td>\n",
       "      <td>His Dark Materials</td>\n",
       "      <td>TV Series</td>\n",
       "      <td>2019â</td>\n",
       "      <td>TV-14</td>\n",
       "      <td>1h</td>\n",
       "      <td>7.9</td>\n",
       "      <td>59K</td>\n",
       "      <td>Adventure|Drama|Family</td>\n",
       "      <td>A young girl is destined to liberate her world...</td>\n",
       "      <td>...</td>\n",
       "      <td>0.0</td>\n",
       "      <td>0.0</td>\n",
       "      <td>1.0</td>\n",
       "      <td>0.0</td>\n",
       "      <td>0.0</td>\n",
       "      <td>0.0</td>\n",
       "      <td>1.0</td>\n",
       "      <td>0.0</td>\n",
       "      <td>0.0</td>\n",
       "      <td>0.0</td>\n",
       "    </tr>\n",
       "    <tr>\n",
       "      <th>4</th>\n",
       "      <td>tt0088814</td>\n",
       "      <td>The Black Cauldron</td>\n",
       "      <td>NaN</td>\n",
       "      <td>1985</td>\n",
       "      <td>PG</td>\n",
       "      <td>1h 20m</td>\n",
       "      <td>6.4</td>\n",
       "      <td>34K</td>\n",
       "      <td>Animation|Action|Adventure</td>\n",
       "      <td>A young boy and a group of misfit friends emba...</td>\n",
       "      <td>...</td>\n",
       "      <td>0.0</td>\n",
       "      <td>0.0</td>\n",
       "      <td>0.0</td>\n",
       "      <td>0.0</td>\n",
       "      <td>0.0</td>\n",
       "      <td>0.0</td>\n",
       "      <td>1.0</td>\n",
       "      <td>0.0</td>\n",
       "      <td>0.0</td>\n",
       "      <td>1.0</td>\n",
       "    </tr>\n",
       "  </tbody>\n",
       "</table>\n",
       "<p>5 rows × 42 columns</p>\n",
       "</div>"
      ],
      "text/plain": [
       "    movie id                        title     series release year  \\\n",
       "0  tt8510350                Satanic Panic        NaN         2019   \n",
       "1  tt0083630              The Beastmaster        NaN         1982   \n",
       "2  tt0119707  Mortal Kombat: Annihilation        NaN         1997   \n",
       "3  tt5607976           His Dark Materials  TV Series     2019â    \n",
       "4  tt0088814           The Black Cauldron        NaN         1985   \n",
       "\n",
       "  certification duration  average rating rating total  \\\n",
       "0     Not Rated   1h 25m             5.6         5.3K   \n",
       "1            PG   1h 58m             6.2          22K   \n",
       "2         PG-13   1h 35m             3.7          53K   \n",
       "3         TV-14       1h             7.9          59K   \n",
       "4            PG   1h 20m             6.4          34K   \n",
       "\n",
       "                   genre list  \\\n",
       "0               Comedy|Horror   \n",
       "1    Action|Adventure|Fantasy   \n",
       "2    Action|Adventure|Fantasy   \n",
       "3      Adventure|Drama|Family   \n",
       "4  Animation|Action|Adventure   \n",
       "\n",
       "                                             content  ... Western Romance  \\\n",
       "0  A pizza delivery girl at the end of her financ...  ...     0.0     0.0   \n",
       "1  A sword-and-sorcery fantasy about a young man'...  ...     0.0     0.0   \n",
       "2  A group of martial arts warriors have only six...  ...     0.0     0.0   \n",
       "3  A young girl is destined to liberate her world...  ...     0.0     0.0   \n",
       "4  A young boy and a group of misfit friends emba...  ...     0.0     0.0   \n",
       "\n",
       "  Drama  Reality-TV Crime  Comedy  Adventure  News  War  Action  \n",
       "0   0.0         0.0   0.0     1.0        0.0   0.0  0.0     0.0  \n",
       "1   0.0         0.0   0.0     0.0        1.0   0.0  0.0     1.0  \n",
       "2   0.0         0.0   0.0     0.0        1.0   0.0  0.0     1.0  \n",
       "3   1.0         0.0   0.0     0.0        1.0   0.0  0.0     0.0  \n",
       "4   0.0         0.0   0.0     0.0        1.0   0.0  0.0     1.0  \n",
       "\n",
       "[5 rows x 42 columns]"
      ]
     },
     "execution_count": 234,
     "metadata": {},
     "output_type": "execute_result"
    }
   ],
   "source": [
    "ml_details.head()"
   ]
  },
  {
   "cell_type": "code",
   "execution_count": 235,
   "metadata": {},
   "outputs": [],
   "source": [
    "ml_ratings = merge_rating_and_movie_ids_df"
   ]
  },
  {
   "cell_type": "code",
   "execution_count": 236,
   "metadata": {},
   "outputs": [],
   "source": [
    "ml_merge = pd.merge(ml_details, ml_ratings[['movie id', 'movie index']], how='inner', on='movie id')"
   ]
  },
  {
   "cell_type": "code",
   "execution_count": 237,
   "metadata": {},
   "outputs": [
    {
     "name": "stdout",
     "output_type": "stream",
     "text": [
      "<class 'pandas.core.frame.DataFrame'>\n",
      "Int64Index: 118390 entries, 0 to 118389\n",
      "Data columns (total 43 columns):\n",
      " #   Column                Non-Null Count   Dtype  \n",
      "---  ------                --------------   -----  \n",
      " 0   movie id              118390 non-null  object \n",
      " 1   title                 118390 non-null  object \n",
      " 2   series                24513 non-null   object \n",
      " 3   release year          116059 non-null  object \n",
      " 4   certification         116729 non-null  object \n",
      " 5   duration              116660 non-null  object \n",
      " 6   average rating        118387 non-null  float64\n",
      " 7   rating total          118387 non-null  object \n",
      " 8   genre list            118390 non-null  object \n",
      " 9   content               118390 non-null  object \n",
      " 10  countries of origin   117772 non-null  object \n",
      " 11  official sites        78230 non-null   object \n",
      " 12  languages             117541 non-null  object \n",
      " 13  production companies  0 non-null       float64\n",
      " 14  budget                86190 non-null   object \n",
      " 15  Biography             118390 non-null  float64\n",
      " 16  Music                 118390 non-null  float64\n",
      " 17  History               118390 non-null  float64\n",
      " 18  Thriller              118390 non-null  float64\n",
      " 19  Fantasy               118390 non-null  float64\n",
      " 20  Sport                 118390 non-null  float64\n",
      " 21  Animation             118390 non-null  float64\n",
      " 22  Game-Show             118390 non-null  float64\n",
      " 23  Horror                118390 non-null  float64\n",
      " 24  Musical               118390 non-null  float64\n",
      " 25  Family                118390 non-null  float64\n",
      " 26  Mystery               118390 non-null  float64\n",
      " 27  Talk-Show             118390 non-null  float64\n",
      " 28  Documentary           118390 non-null  float64\n",
      " 29  Sci-Fi                118390 non-null  float64\n",
      " 30  Film-Noir             118390 non-null  float64\n",
      " 31  Short                 118390 non-null  float64\n",
      " 32  Western               118390 non-null  float64\n",
      " 33  Romance               118390 non-null  float64\n",
      " 34  Drama                 118390 non-null  float64\n",
      " 35  Reality-TV            118390 non-null  float64\n",
      " 36  Crime                 118390 non-null  float64\n",
      " 37  Comedy                118390 non-null  float64\n",
      " 38  Adventure             118390 non-null  float64\n",
      " 39  News                  118390 non-null  float64\n",
      " 40  War                   118390 non-null  float64\n",
      " 41  Action                118390 non-null  float64\n",
      " 42  movie index           118390 non-null  int64  \n",
      "dtypes: float64(29), int64(1), object(13)\n",
      "memory usage: 39.7+ MB\n"
     ]
    }
   ],
   "source": [
    "ml_merge.info()"
   ]
  },
  {
   "cell_type": "code",
   "execution_count": 238,
   "metadata": {},
   "outputs": [],
   "source": [
    "ml_merge.drop_duplicates(keep='first', inplace=True)"
   ]
  },
  {
   "cell_type": "code",
   "execution_count": 239,
   "metadata": {},
   "outputs": [
    {
     "name": "stdout",
     "output_type": "stream",
     "text": [
      "<class 'pandas.core.frame.DataFrame'>\n",
      "Int64Index: 8362 entries, 0 to 118389\n",
      "Data columns (total 43 columns):\n",
      " #   Column                Non-Null Count  Dtype  \n",
      "---  ------                --------------  -----  \n",
      " 0   movie id              8362 non-null   object \n",
      " 1   title                 8362 non-null   object \n",
      " 2   series                2246 non-null   object \n",
      " 3   release year          8044 non-null   object \n",
      " 4   certification         8153 non-null   object \n",
      " 5   duration              8133 non-null   object \n",
      " 6   average rating        8361 non-null   float64\n",
      " 7   rating total          8361 non-null   object \n",
      " 8   genre list            8362 non-null   object \n",
      " 9   content               8362 non-null   object \n",
      " 10  countries of origin   8291 non-null   object \n",
      " 11  official sites        5465 non-null   object \n",
      " 12  languages             8252 non-null   object \n",
      " 13  production companies  0 non-null      float64\n",
      " 14  budget                5364 non-null   object \n",
      " 15  Biography             8362 non-null   float64\n",
      " 16  Music                 8362 non-null   float64\n",
      " 17  History               8362 non-null   float64\n",
      " 18  Thriller              8362 non-null   float64\n",
      " 19  Fantasy               8362 non-null   float64\n",
      " 20  Sport                 8362 non-null   float64\n",
      " 21  Animation             8362 non-null   float64\n",
      " 22  Game-Show             8362 non-null   float64\n",
      " 23  Horror                8362 non-null   float64\n",
      " 24  Musical               8362 non-null   float64\n",
      " 25  Family                8362 non-null   float64\n",
      " 26  Mystery               8362 non-null   float64\n",
      " 27  Talk-Show             8362 non-null   float64\n",
      " 28  Documentary           8362 non-null   float64\n",
      " 29  Sci-Fi                8362 non-null   float64\n",
      " 30  Film-Noir             8362 non-null   float64\n",
      " 31  Short                 8362 non-null   float64\n",
      " 32  Western               8362 non-null   float64\n",
      " 33  Romance               8362 non-null   float64\n",
      " 34  Drama                 8362 non-null   float64\n",
      " 35  Reality-TV            8362 non-null   float64\n",
      " 36  Crime                 8362 non-null   float64\n",
      " 37  Comedy                8362 non-null   float64\n",
      " 38  Adventure             8362 non-null   float64\n",
      " 39  News                  8362 non-null   float64\n",
      " 40  War                   8362 non-null   float64\n",
      " 41  Action                8362 non-null   float64\n",
      " 42  movie index           8362 non-null   int64  \n",
      "dtypes: float64(29), int64(1), object(13)\n",
      "memory usage: 2.8+ MB\n"
     ]
    }
   ],
   "source": [
    "ml_merge.info()"
   ]
  },
  {
   "cell_type": "code",
   "execution_count": 240,
   "metadata": {},
   "outputs": [],
   "source": [
    "ml_merge.to_csv('./data/datasets/movie/ml_details.csv', sep=',', encoding='latin-1', index=False)"
   ]
  },
  {
   "cell_type": "code",
   "execution_count": null,
   "metadata": {},
   "outputs": [],
   "source": [
    "ml_ratings.to_csv('./data/datasets/rating/ml_details.csv', sep=',', encoding='latin-1', index=False)"
   ]
  }
 ],
 "metadata": {
  "interpreter": {
   "hash": "ac59ebe37160ed0dfa835113d9b8498d9f09ceb179beaac4002f036b9467c963"
  },
  "kernelspec": {
   "display_name": "Python 3.9.7 64-bit",
   "language": "python",
   "name": "python3"
  },
  "language_info": {
   "codemirror_mode": {
    "name": "ipython",
    "version": 3
   },
   "file_extension": ".py",
   "mimetype": "text/x-python",
   "name": "python",
   "nbconvert_exporter": "python",
   "pygments_lexer": "ipython3",
   "version": "3.9.7"
  },
  "orig_nbformat": 4
 },
 "nbformat": 4,
 "nbformat_minor": 2
}
