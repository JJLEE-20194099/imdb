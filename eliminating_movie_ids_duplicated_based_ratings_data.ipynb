{
 "cells": [
  {
   "cell_type": "code",
   "execution_count": 9,
   "metadata": {},
   "outputs": [],
   "source": [
    "import pandas as pd\n",
    "import numpy as np\n",
    "import os\n",
    "from src.text_csv_utils import write_csv_file\n",
    "from src.url_functions import get_detail_movie_by_movie_id"
   ]
  },
  {
   "cell_type": "code",
   "execution_count": 10,
   "metadata": {},
   "outputs": [
    {
     "data": {
      "text/html": [
       "<div>\n",
       "<style scoped>\n",
       "    .dataframe tbody tr th:only-of-type {\n",
       "        vertical-align: middle;\n",
       "    }\n",
       "\n",
       "    .dataframe tbody tr th {\n",
       "        vertical-align: top;\n",
       "    }\n",
       "\n",
       "    .dataframe thead th {\n",
       "        text-align: right;\n",
       "    }\n",
       "</style>\n",
       "<table border=\"1\" class=\"dataframe\">\n",
       "  <thead>\n",
       "    <tr style=\"text-align: right;\">\n",
       "      <th></th>\n",
       "      <th>user id</th>\n",
       "      <th>movie id</th>\n",
       "      <th>rating</th>\n",
       "      <th>content</th>\n",
       "      <th>date</th>\n",
       "    </tr>\n",
       "  </thead>\n",
       "  <tbody>\n",
       "    <tr>\n",
       "      <th>0</th>\n",
       "      <td>ur20552756</td>\n",
       "      <td>tt0102813</td>\n",
       "      <td>6.0</td>\n",
       "      <td>I am a big fan of animated movies and of anima...</td>\n",
       "      <td>22 June 2011</td>\n",
       "    </tr>\n",
       "    <tr>\n",
       "      <th>1</th>\n",
       "      <td>ur0391152</td>\n",
       "      <td>tt0102813</td>\n",
       "      <td>4.0</td>\n",
       "      <td>I've always had kind of a perverse curiosity a...</td>\n",
       "      <td>22 August 2010</td>\n",
       "    </tr>\n",
       "    <tr>\n",
       "      <th>2</th>\n",
       "      <td>ur0688559</td>\n",
       "      <td>tt0102813</td>\n",
       "      <td>NaN</td>\n",
       "      <td>A street-smart dog from Las Vegas (voiced by R...</td>\n",
       "      <td>4 July 2002</td>\n",
       "    </tr>\n",
       "    <tr>\n",
       "      <th>3</th>\n",
       "      <td>ur34049683</td>\n",
       "      <td>tt0102813</td>\n",
       "      <td>5.0</td>\n",
       "      <td>Everything about this movie is from the mind o...</td>\n",
       "      <td>14 March 2013</td>\n",
       "    </tr>\n",
       "    <tr>\n",
       "      <th>4</th>\n",
       "      <td>ur23566468</td>\n",
       "      <td>tt0102813</td>\n",
       "      <td>5.0</td>\n",
       "      <td>Rover Dangerfield is loosely based on the late...</td>\n",
       "      <td>20 April 2020</td>\n",
       "    </tr>\n",
       "  </tbody>\n",
       "</table>\n",
       "</div>"
      ],
      "text/plain": [
       "      user id   movie id  rating  \\\n",
       "0  ur20552756  tt0102813     6.0   \n",
       "1   ur0391152  tt0102813     4.0   \n",
       "2   ur0688559  tt0102813     NaN   \n",
       "3  ur34049683  tt0102813     5.0   \n",
       "4  ur23566468  tt0102813     5.0   \n",
       "\n",
       "                                             content            date  \n",
       "0  I am a big fan of animated movies and of anima...    22 June 2011  \n",
       "1  I've always had kind of a perverse curiosity a...  22 August 2010  \n",
       "2  A street-smart dog from Las Vegas (voiced by R...     4 July 2002  \n",
       "3  Everything about this movie is from the mind o...   14 March 2013  \n",
       "4  Rover Dangerfield is loosely based on the late...   20 April 2020  "
      ]
     },
     "execution_count": 10,
     "metadata": {},
     "output_type": "execute_result"
    }
   ],
   "source": [
    "ratings = pd.read_csv('./data/datasets/rating/details.csv', sep=',')\n",
    "ratings.head()"
   ]
  },
  {
   "cell_type": "code",
   "execution_count": 11,
   "metadata": {},
   "outputs": [],
   "source": [
    "distinct_movie_ids = ratings['movie id'].value_counts().index.tolist()"
   ]
  },
  {
   "cell_type": "code",
   "execution_count": 12,
   "metadata": {},
   "outputs": [],
   "source": [
    "OUTPUT = './data/datasets/movie'\n",
    "os.makedirs(OUTPUT, exist_ok=True)"
   ]
  },
  {
   "cell_type": "code",
   "execution_count": 13,
   "metadata": {},
   "outputs": [],
   "source": [
    "movie_id_path = os.path.join(OUTPUT, 'ids.txt')"
   ]
  },
  {
   "cell_type": "code",
   "execution_count": 14,
   "metadata": {},
   "outputs": [],
   "source": [
    "distinct_movie_ids = [[movie_id] for movie_id in distinct_movie_ids]\n",
    "write_csv_file(distinct_movie_ids, movie_id_path, 'w')"
   ]
  },
  {
   "cell_type": "code",
   "execution_count": 15,
   "metadata": {},
   "outputs": [],
   "source": [
    "movie_detail_path = os.path.join(OUTPUT, 'details.csv')"
   ]
  },
  {
   "cell_type": "code",
   "execution_count": 16,
   "metadata": {},
   "outputs": [],
   "source": [
    "for movie_id in distinct_movie_ids:\n",
    "    write_csv_file([get_detail_movie_by_movie_id(movie_id[0])], movie_detail_path, 'a')"
   ]
  },
  {
   "cell_type": "code",
   "execution_count": null,
   "metadata": {},
   "outputs": [
    {
     "name": "stdout",
     "output_type": "stream",
     "text": [
      "1\n",
      "2\n"
     ]
    }
   ],
   "source": []
  }
 ],
 "metadata": {
  "interpreter": {
   "hash": "ac59ebe37160ed0dfa835113d9b8498d9f09ceb179beaac4002f036b9467c963"
  },
  "kernelspec": {
   "display_name": "Python 3.9.7 64-bit",
   "language": "python",
   "name": "python3"
  },
  "language_info": {
   "codemirror_mode": {
    "name": "ipython",
    "version": 3
   },
   "file_extension": ".py",
   "mimetype": "text/x-python",
   "name": "python",
   "nbconvert_exporter": "python",
   "pygments_lexer": "ipython3",
   "version": "3.9.7"
  },
  "orig_nbformat": 4
 },
 "nbformat": 4,
 "nbformat_minor": 2
}
